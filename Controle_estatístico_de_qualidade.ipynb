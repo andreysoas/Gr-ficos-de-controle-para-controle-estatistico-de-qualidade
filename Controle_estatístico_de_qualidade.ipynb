{
  "nbformat": 4,
  "nbformat_minor": 0,
  "metadata": {
    "colab": {
      "name": "Controle estatístico de qualidade.ipynb",
      "provenance": [],
      "collapsed_sections": [],
      "authorship_tag": "ABX9TyM+o2Tc4ZLHEYMr6euGrNmD"
    },
    "kernelspec": {
      "name": "python3",
      "display_name": "Python 3"
    },
    "language_info": {
      "name": "python"
    }
  },
  "cells": [
    {
      "cell_type": "markdown",
      "metadata": {
        "id": "tTWu8y8SHogI"
      },
      "source": [
        "**TESTES DA ACURÁCIA DO INSTRUMENTO DE MEDIÇÃO**"
      ]
    },
    {
      "cell_type": "markdown",
      "metadata": {
        "id": "sXbFmSeqkJAF"
      },
      "source": [
        "- REPETITIVIDADE"
      ]
    },
    {
      "cell_type": "markdown",
      "metadata": {
        "id": "ngJ3cs0rEz2J"
      },
      "source": [
        "A porcentagem da tolerância (PT) compara a capacidade do instrumento de\n",
        "medição com a faixa de especificação. \n",
        "\n",
        "$PT = (\\frac{6 \\cdot \\hat\\sigma_{medição}}{LSE - LIE})\\cdot 100$"
      ]
    },
    {
      "cell_type": "markdown",
      "metadata": {
        "id": "w9S2BJPlF6NI"
      },
      "source": [
        "onde, \\\\\n",
        "$\\hat\\sigma_{medição} = \\frac{\\bar{R}}{d_2}$"
      ]
    },
    {
      "cell_type": "markdown",
      "metadata": {
        "id": "DYGkCSwDHJA-"
      },
      "source": [
        "$n$ o número de vezes que\n",
        "cada item é medido"
      ]
    },
    {
      "cell_type": "markdown",
      "metadata": {
        "id": "04nL63XQGbgi"
      },
      "source": [
        "$d_2$ é uma constante tabelada em função do número de\n",
        "vezes que cada item é medido"
      ]
    },
    {
      "cell_type": "markdown",
      "metadata": {
        "id": "KMpC2lTUHxZ2"
      },
      "source": [
        "Se $PT<=10%$ , então o instrumento de medição é\n",
        "adequado."
      ]
    },
    {
      "cell_type": "markdown",
      "metadata": {
        "id": "KZi-abqdkPFj"
      },
      "source": [
        "- REPRODUTIBILIDADE"
      ]
    },
    {
      "cell_type": "markdown",
      "metadata": {
        "id": "NRxc7Zd8kRoC"
      },
      "source": [
        "A reprodutibilidade de um instrumento de medição é a variação na média das\n",
        "medidas obtidas quando diferentes operadores utilizam o instrumento de\n",
        "medição para medir repetidas vezes a característica de interesse dos mesmos\n",
        "itens. \\\\\n",
        "\n",
        "$\\hat\\sigma_{repro} $ = quantificação da reprodutibilidade \\\\\n",
        "\n",
        "Fatores que podem levar a uma reprodutibilidade errada:\n",
        "\n",
        "- Utilização de diferentes procedimentos de medição por parte dos\n",
        "operadores\n",
        "- Treinamento insuficiente dos operadores\n",
        "- Projeto inadequado do instrumento, permitindo interpretações subjetivas \\\\\n",
        "\n",
        "Observe que nós temos dados referentes à medição de cada operador\n",
        "para cada \"und. produto\" medida.\n",
        "\n",
        "$n$ = número de operadores , $k$ = número de itens medidos\n",
        "\n",
        "$\\hat\\sigma_{repe} = \\frac{\\bar{\\bar{R}}}{d_2}$\n",
        "\n",
        "$\\hat\\sigma_{repro} = \\sqrt{(\\frac{R_{\\bar{\\bar{x}}}}{d_2})^{2} - \\frac{\\hat\\sigma_{repe}^2}{n \\cdot k}}$"
      ]
    },
    {
      "cell_type": "markdown",
      "metadata": {
        "id": "rBvBoJGEr218"
      },
      "source": [
        "onde: \\\\\n",
        "$PT_{repro} = (\\frac{6 \\cdot \\hat\\sigma_{repro}}{LSE - LIE})\\cdot 100$"
      ]
    },
    {
      "cell_type": "markdown",
      "metadata": {
        "id": "q20DPBp0sr7F"
      },
      "source": [
        "e temos a Variabilidade do sitema de medição como: $\\hat\\sigma_{medição}^2 = \\hat\\sigma_{repe}^2 + \\hat\\sigma_{repro}^2$"
      ]
    },
    {
      "cell_type": "markdown",
      "metadata": {
        "id": "zi_pHxdztQrb"
      },
      "source": [
        "E assim o percentual de tolerância do instrumento de medição é calculado\n",
        "como: \\\\\n",
        "$PT_{medição} = (\\frac{6 \\cdot \\hat\\sigma_{medição}}{LSE - LIE})\\cdot 100$"
      ]
    },
    {
      "cell_type": "markdown",
      "metadata": {
        "id": "Pj0Y1ehj8XCU"
      },
      "source": [
        "**CAPACIDADE** ($CP$ e $CP_k$)"
      ]
    },
    {
      "cell_type": "markdown",
      "metadata": {
        "id": "ZPbkUKS18Z0E"
      },
      "source": [
        "O teste de capacidade está relacionado com saber se o processo é capaz de atender às especificações estabelecidas.\n",
        "\n",
        "Um processo pode não ser capaz por apresentar\n",
        "\n",
        "- Elevada variabilidade\n",
        "- Média deslocada com relação ao ponto médio dos limites de especificação"
      ]
    },
    {
      "cell_type": "code",
      "metadata": {
        "id": "ymdXg_bEPDQb"
      },
      "source": [
        "import numpy as np\n",
        "import matplotlib.pyplot as plt\n",
        "import seaborn as sns\n",
        "import pandas as pd\n",
        "import math"
      ],
      "execution_count": null,
      "outputs": []
    },
    {
      "cell_type": "markdown",
      "metadata": {
        "id": "omjCiPcxAzyc"
      },
      "source": [
        "**- CRIAÇÃO DE GRÁFICOS DE CONTROLE** ( Para $\\bar{\\bar{X}}$ e $\\bar{R}$ )"
      ]
    },
    {
      "cell_type": "markdown",
      "metadata": {
        "id": "vjotiANmvttb"
      },
      "source": [
        "Existem dois tipos de causas para a variação na qualidade dos produtos e\n",
        "serviços provenientes de um processo: **Causas Comuns** e **Causas Especiais**. \\\\\n",
        "- **Causas comuns** : inerentes ao processo, resultado de pequenas variações naturais.\n",
        "- **Causas Especiais** :  não fazem parte do processo o tempo todo. Surgem\n",
        "ocasionalmente devido a uma causa específica, levando a resultados\n",
        "estranhos quando comparada à inerente ao processo. Estas causas devem ser\n",
        "imediatamente pesquisadas e bloqueadas. Um processo está \"sob controle\n",
        "estatístico\" ou simplesmente \"sob controle\", se está operando com apenas\n",
        "causas comuns de variação. ( Quebra ou erro-humano )"
      ]
    },
    {
      "cell_type": "markdown",
      "metadata": {
        "id": "ATWNFnn4xXM5"
      },
      "source": [
        "Introduzimos os parâmetros para o gráfico de controle:\n",
        "\n",
        "LIC = Limite Inferior de Controle \\\\\n",
        "LC = Linha Central \\\\\n",
        "LSC = Limite Superior de Controle \\\\\n",
        "\n",
        "\\\\\n",
        "O procedimento consiste em plotar médias retiradas do processo e verificar se\n",
        "os pontos estão dentro dos limites de controle e não formam padrões\n",
        "“definidos”. Caso isto aconteça, dizemos que o processo está sob controle\n",
        "estatístico.\n",
        "\n",
        "- O processo parte da coleta corriqueira de amostras ( chamadas de grupos racionais ). onde cada uma destas deve ser constituída de unidades retiradas na mesma hora ou em intervalos de tempo pequenos.\n",
        "\n",
        "- Cada amostra consiste de unidades do produto que são representativos\n",
        "de todas as unidades produzidas desde que a última amostra foi\n",
        "retirada. Basicamente é uma amostra aleatória de toda a produção do\n",
        "processo durante o intervalo de amostragem.\n"
      ]
    },
    {
      "cell_type": "markdown",
      "metadata": {
        "id": "B8QFobsG1diZ"
      },
      "source": [
        "\n",
        "**Gráficos de controle para a média e amplitude**"
      ]
    },
    {
      "cell_type": "markdown",
      "metadata": {
        "id": "yhQjcjdM1im1"
      },
      "source": [
        "Para a construção do gráfico para a média, em geral, o procedimento consiste\n",
        "em tomar **cerca de 25 subgrupos, representativos do processo, com 4 ou\n",
        "5 elementos cada**.\n",
        "\n",
        "\n",
        "sendo $ k = $ quantidade de subgrupos\n",
        "\n",
        "tomemos:  $i \\in [1,...,k]$\n",
        "\n",
        "Para a média: cada ponto é a média dos subgrupos, ou seja, $\\bar{x_i}$\n",
        "\n",
        "Para a Amplitude: cada ponto é a amplitude dos subgrupos, ou seja, $R_i$\n",
        "\n",
        "Tendo isso em mãos, calcula-se $\\bar{\\bar{x}}$ e $\\bar{R}$\n",
        "\n"
      ]
    },
    {
      "cell_type": "markdown",
      "metadata": {
        "id": "O17cW1Vv4zUy"
      },
      "source": [
        "\n",
        "- Cálculo dos limites de controle"
      ]
    },
    {
      "cell_type": "markdown",
      "metadata": {
        "id": "Nv9Yg1zT44jO"
      },
      "source": [
        "Para gráfico para a média:\n",
        "\n",
        "$LSC = \\bar{\\bar{x}} + A_2 \\cdot \\bar{R} $\n",
        "\n",
        "$LIC = \\bar{\\bar{x}} - A_2 \\cdot \\bar{R} $\n",
        "\n",
        "$LC = \\bar{\\bar{x}}$"
      ]
    },
    {
      "cell_type": "markdown",
      "metadata": {
        "id": "G8seJ0d_50gG"
      },
      "source": [
        "Para gráfico para a amplitude:\n",
        "\n",
        "$LSC = D_4\\cdot \\bar{R} $\n",
        "\n",
        "$LIC = D_3\\cdot \\bar{R} $\n",
        "\n",
        "$LC = \\bar{R}$"
      ]
    },
    {
      "cell_type": "markdown",
      "metadata": {
        "id": "bP_fLqeT5fmg"
      },
      "source": [
        "\n",
        "Onde $A_2$, $D_4$ e $D_3$ são tabelados para o tamanho $n$ da amostra"
      ]
    },
    {
      "cell_type": "markdown",
      "metadata": {
        "id": "upRbI08JW-3Q"
      },
      "source": [
        "**ANÁLISE DA CAPACIDADE**"
      ]
    },
    {
      "cell_type": "markdown",
      "metadata": {
        "id": "Mox5XpxjXD1C"
      },
      "source": [
        "Avaliar se o processo é capaz de atender às especificações estabelecidas a partir dos desejos e necessidades dos clientes.\n",
        "\n",
        "- O que faria um processo não ser capaz?\n",
        "\n",
        "*elevada variabilidade*\n",
        "\n",
        "*média deslocada em relação ao ponto médio dos limites de especificação*\n",
        "\n",
        "Importante pontuar: A análise da capacidade só pode ser feita em processos sob controle estatístico.\n",
        "\n",
        "$LIE$ = Limite inferior de especificação\n",
        "\n",
        "$LSE$ = Limite superior de especificação\n",
        "\n",
        "\n",
        "\n",
        "\n",
        "\n",
        "Para que façamos uso dos índices de capacidade ( $C_p$ e $C_{pk}$) é necessário que: \n",
        "\n",
        "- O processos esteja sob controle estatístico\n",
        "- A variável de interesse seja aproximadamente normal (histograma)\n",
        "- Sejam estabelecidos LSE e LIE do produto.\n",
        "\n",
        "\n",
        "índice $C_P = \\frac{LSE - LIE}{6\\sigma}$.\n",
        "Este índice relaciona a variabilidade permitida(LSE-LIE) com a variabilidade natural do processo.\n",
        "\n",
        "índice $C_{pk} = \\min[\\frac{LSE-\\mu}{3\\sigma}, \\frac{\\mu-LIE}{3\\sigma}]$.\n",
        "Este índice permite avaliar de a média do processo é igual a média dos limites de especificação.\n",
        "Também mede a variação do processo com relação à especificação.\n",
        "\n",
        "PROCESSO CAPAZ ----> $C_p = C_{pk} \\ge 1.33$"
      ]
    },
    {
      "cell_type": "code",
      "metadata": {
        "id": "HoZHZeBZPnbJ"
      },
      "source": [
        "table = np.array([[413, 419, 411, 421],[395, 413, 413, 417],[425, 407, 423, 417],[403, 399, 401, 397],\n",
        "        [419, 409, 429, 409],[407, 407, 407, 409],[397, 401, 407, 393],[405, 417, 407, 407],\n",
        "        [411, 415, 409, 405],[409, 413, 405, 409],[407, 403, 409, 405],[407, 411, 415, 415],\n",
        "        [403, 409, 407, 411],[409, 405, 393, 397],[419, 415, 401, 395],[407, 399, 413, 403],\n",
        "        [409, 407, 410, 411],[427, 417, 409, 407],[411, 415, 419, 425],[405, 417, 409, 419],\n",
        "        [397, 407, 417, 405],[413, 413, 405, 395],[409, 405, 409, 413],[403, 399, 399, 405],\n",
        "        [395, 389, 401, 393]])\n",
        "\n"
      ],
      "execution_count": null,
      "outputs": []
    },
    {
      "cell_type": "code",
      "metadata": {
        "id": "VFQlPmdTTMRk"
      },
      "source": [
        "medians = []\n",
        "ranges = []\n",
        "\n",
        "for t in table:\n",
        "  medians.append(t.mean())\n",
        "  ranges.append(max(t) - min(t))\n"
      ],
      "execution_count": null,
      "outputs": []
    },
    {
      "cell_type": "code",
      "metadata": {
        "colab": {
          "base_uri": "https://localhost:8080/",
          "height": 803
        },
        "id": "yhSPXQA1XwEp",
        "outputId": "96ad1bbe-19c0-4192-d078-c63385f920ad"
      },
      "source": [
        "data = {'Medias':medians,'Amplitude':ranges}\n",
        "df = pd.DataFrame(data=data,index=np.arange(1,26))\n",
        "\n",
        "df"
      ],
      "execution_count": null,
      "outputs": [
        {
          "output_type": "execute_result",
          "data": {
            "text/html": [
              "<div>\n",
              "<style scoped>\n",
              "    .dataframe tbody tr th:only-of-type {\n",
              "        vertical-align: middle;\n",
              "    }\n",
              "\n",
              "    .dataframe tbody tr th {\n",
              "        vertical-align: top;\n",
              "    }\n",
              "\n",
              "    .dataframe thead th {\n",
              "        text-align: right;\n",
              "    }\n",
              "</style>\n",
              "<table border=\"1\" class=\"dataframe\">\n",
              "  <thead>\n",
              "    <tr style=\"text-align: right;\">\n",
              "      <th></th>\n",
              "      <th>Medias</th>\n",
              "      <th>Amplitude</th>\n",
              "    </tr>\n",
              "  </thead>\n",
              "  <tbody>\n",
              "    <tr>\n",
              "      <th>1</th>\n",
              "      <td>416.00</td>\n",
              "      <td>10</td>\n",
              "    </tr>\n",
              "    <tr>\n",
              "      <th>2</th>\n",
              "      <td>409.50</td>\n",
              "      <td>22</td>\n",
              "    </tr>\n",
              "    <tr>\n",
              "      <th>3</th>\n",
              "      <td>418.00</td>\n",
              "      <td>18</td>\n",
              "    </tr>\n",
              "    <tr>\n",
              "      <th>4</th>\n",
              "      <td>400.00</td>\n",
              "      <td>6</td>\n",
              "    </tr>\n",
              "    <tr>\n",
              "      <th>5</th>\n",
              "      <td>416.50</td>\n",
              "      <td>20</td>\n",
              "    </tr>\n",
              "    <tr>\n",
              "      <th>6</th>\n",
              "      <td>407.50</td>\n",
              "      <td>2</td>\n",
              "    </tr>\n",
              "    <tr>\n",
              "      <th>7</th>\n",
              "      <td>399.50</td>\n",
              "      <td>14</td>\n",
              "    </tr>\n",
              "    <tr>\n",
              "      <th>8</th>\n",
              "      <td>409.00</td>\n",
              "      <td>12</td>\n",
              "    </tr>\n",
              "    <tr>\n",
              "      <th>9</th>\n",
              "      <td>410.00</td>\n",
              "      <td>10</td>\n",
              "    </tr>\n",
              "    <tr>\n",
              "      <th>10</th>\n",
              "      <td>409.00</td>\n",
              "      <td>8</td>\n",
              "    </tr>\n",
              "    <tr>\n",
              "      <th>11</th>\n",
              "      <td>406.00</td>\n",
              "      <td>6</td>\n",
              "    </tr>\n",
              "    <tr>\n",
              "      <th>12</th>\n",
              "      <td>412.00</td>\n",
              "      <td>8</td>\n",
              "    </tr>\n",
              "    <tr>\n",
              "      <th>13</th>\n",
              "      <td>407.50</td>\n",
              "      <td>8</td>\n",
              "    </tr>\n",
              "    <tr>\n",
              "      <th>14</th>\n",
              "      <td>401.00</td>\n",
              "      <td>16</td>\n",
              "    </tr>\n",
              "    <tr>\n",
              "      <th>15</th>\n",
              "      <td>407.50</td>\n",
              "      <td>24</td>\n",
              "    </tr>\n",
              "    <tr>\n",
              "      <th>16</th>\n",
              "      <td>405.50</td>\n",
              "      <td>14</td>\n",
              "    </tr>\n",
              "    <tr>\n",
              "      <th>17</th>\n",
              "      <td>409.25</td>\n",
              "      <td>4</td>\n",
              "    </tr>\n",
              "    <tr>\n",
              "      <th>18</th>\n",
              "      <td>415.00</td>\n",
              "      <td>20</td>\n",
              "    </tr>\n",
              "    <tr>\n",
              "      <th>19</th>\n",
              "      <td>417.50</td>\n",
              "      <td>14</td>\n",
              "    </tr>\n",
              "    <tr>\n",
              "      <th>20</th>\n",
              "      <td>412.50</td>\n",
              "      <td>14</td>\n",
              "    </tr>\n",
              "    <tr>\n",
              "      <th>21</th>\n",
              "      <td>406.50</td>\n",
              "      <td>20</td>\n",
              "    </tr>\n",
              "    <tr>\n",
              "      <th>22</th>\n",
              "      <td>406.50</td>\n",
              "      <td>18</td>\n",
              "    </tr>\n",
              "    <tr>\n",
              "      <th>23</th>\n",
              "      <td>409.00</td>\n",
              "      <td>8</td>\n",
              "    </tr>\n",
              "    <tr>\n",
              "      <th>24</th>\n",
              "      <td>401.50</td>\n",
              "      <td>6</td>\n",
              "    </tr>\n",
              "    <tr>\n",
              "      <th>25</th>\n",
              "      <td>394.50</td>\n",
              "      <td>12</td>\n",
              "    </tr>\n",
              "  </tbody>\n",
              "</table>\n",
              "</div>"
            ],
            "text/plain": [
              "    Medias  Amplitude\n",
              "1   416.00         10\n",
              "2   409.50         22\n",
              "3   418.00         18\n",
              "4   400.00          6\n",
              "5   416.50         20\n",
              "6   407.50          2\n",
              "7   399.50         14\n",
              "8   409.00         12\n",
              "9   410.00         10\n",
              "10  409.00          8\n",
              "11  406.00          6\n",
              "12  412.00          8\n",
              "13  407.50          8\n",
              "14  401.00         16\n",
              "15  407.50         24\n",
              "16  405.50         14\n",
              "17  409.25          4\n",
              "18  415.00         20\n",
              "19  417.50         14\n",
              "20  412.50         14\n",
              "21  406.50         20\n",
              "22  406.50         18\n",
              "23  409.00          8\n",
              "24  401.50          6\n",
              "25  394.50         12"
            ]
          },
          "metadata": {},
          "execution_count": 6
        }
      ]
    },
    {
      "cell_type": "code",
      "metadata": {
        "colab": {
          "base_uri": "https://localhost:8080/",
          "height": 361
        },
        "id": "CyAr-gUZVoXT",
        "outputId": "474724b3-3ac6-460b-f0e1-662e756f1f90"
      },
      "source": [
        "from seaborn import heatmap\n",
        "\n",
        "\n",
        "a = df.corr()\n",
        "heatmap(a)\n",
        "a[::-1, y1:y2]\n",
        "a"
      ],
      "execution_count": null,
      "outputs": [
        {
          "output_type": "execute_result",
          "data": {
            "text/html": [
              "<div>\n",
              "<style scoped>\n",
              "    .dataframe tbody tr th:only-of-type {\n",
              "        vertical-align: middle;\n",
              "    }\n",
              "\n",
              "    .dataframe tbody tr th {\n",
              "        vertical-align: top;\n",
              "    }\n",
              "\n",
              "    .dataframe thead th {\n",
              "        text-align: right;\n",
              "    }\n",
              "</style>\n",
              "<table border=\"1\" class=\"dataframe\">\n",
              "  <thead>\n",
              "    <tr style=\"text-align: right;\">\n",
              "      <th></th>\n",
              "      <th>Medias</th>\n",
              "      <th>Amplitude</th>\n",
              "    </tr>\n",
              "  </thead>\n",
              "  <tbody>\n",
              "    <tr>\n",
              "      <th>Medias</th>\n",
              "      <td>1.000000</td>\n",
              "      <td>0.230236</td>\n",
              "    </tr>\n",
              "    <tr>\n",
              "      <th>Amplitude</th>\n",
              "      <td>0.230236</td>\n",
              "      <td>1.000000</td>\n",
              "    </tr>\n",
              "  </tbody>\n",
              "</table>\n",
              "</div>"
            ],
            "text/plain": [
              "             Medias  Amplitude\n",
              "Medias     1.000000   0.230236\n",
              "Amplitude  0.230236   1.000000"
            ]
          },
          "metadata": {},
          "execution_count": 8
        },
        {
          "output_type": "display_data",
          "data": {
            "image/png": "[encoded data removed]",
            "text/plain": [
              "<Figure size 432x288 with 2 Axes>"
            ]
          },
          "metadata": {
            "needs_background": "light"
          }
        }
      ]
    },
    {
      "cell_type": "markdown",
      "metadata": {
        "id": "cuWRYSLH5Bcj"
      },
      "source": [
        "#**Códigos para plotagem dos gráficos de controle**"
      ]
    },
    {
      "cell_type": "markdown",
      "metadata": {
        "id": "zTVn95Ri7TOg"
      },
      "source": [
        "**Implementação de um código para apresentação do gráfico de controle ($\\bar{X}$ e $R$**)"
      ]
    },
    {
      "cell_type": "code",
      "metadata": {
        "id": "rHkJ92Aw-UPw"
      },
      "source": [
        "import numpy as np\n",
        "import matplotlib.pyplot as plt\n",
        "import pandas as pd"
      ],
      "execution_count": null,
      "outputs": []
    },
    {
      "cell_type": "code",
      "metadata": {
        "id": "_QtaV4eE7XA3"
      },
      "source": [
        "def recebeTabela(tabela: np.ndarray):\n",
        "\n",
        "  media_points = []\n",
        "  amplitude_points = []\n",
        "\n",
        "  k = tabela.shape[0] #quantidade de amostras\n",
        "  n = tabela.shape[1] #quantidade de elementos na amostra\n",
        "\n",
        "  for i in tabela:\n",
        "    media_points.append(i.mean())\n",
        "\n",
        "    amplitude_points.append(i.max() - i.min())\n",
        "\n",
        "  LC_media = np.array(media_points).mean()\n",
        "  LC_amplitude = np.array(amplitude_points).mean()\n",
        "\n",
        "  A_2 = float(input(\"A2 para tamanho da amostra = \"+str(n)+\": \"))\n",
        "\n",
        "  D_4 = float(input(\"D4 para tamanho da amostra = \"+str(n)+\": \"))\n",
        "\n",
        "  D_3 = float(input(\"D3 para tamanho da amostra = \"+str(n)+\": \"))\n",
        "\n",
        "  limites_media_andP = ((LC_media - (A_2*LC_amplitude), LC_media, LC_media + (A_2*LC_amplitude)), media_points)\n",
        "  limites_amplitude_andP = ((D_3*LC_amplitude, LC_amplitude, D_4*LC_amplitude), amplitude_points)\n",
        "\n",
        "  print(\"\\n\")\n",
        "  plot_graphics(limites_media_andP, k, 'Média')\n",
        "  print(\"\\n\")\n",
        "  plot_graphics(limites_amplitude_andP, k, 'Amplitude')"
      ],
      "execution_count": null,
      "outputs": []
    },
    {
      "cell_type": "code",
      "metadata": {
        "id": "4OZShEODBoB1"
      },
      "source": [
        "def plot_graphics(listaX: np.ndarray, tam:int, tipo:str):\n",
        "  plt.figure(figsize=(10,5))\n",
        "\n",
        "  rangePlot = range(1,tam+1)\n",
        "\n",
        "  LIC = np.ones(tam)*listaX[0][0]\n",
        "\n",
        "  LC = np.ones(tam)*listaX[0][1]\n",
        "\n",
        "  LSC = np.ones(tam)*listaX[0][2]\n",
        "\n",
        "  plt.plot(rangePlot,LIC,label='LIC',linestyle='--')\n",
        "\n",
        "  plt.plot(rangePlot,LC,label='LC',linestyle='--')\n",
        "\n",
        "  plt.plot(rangePlot,LSC,label='LSC',linestyle='--')\n",
        "\n",
        "  plt.plot(rangePlot,listaX[1],'.-')\n",
        "\n",
        "  plt.title(\"Gráfico de controle (\"+tipo+\")\")\n",
        "\n",
        "  plt.grid(True)\n",
        "\n",
        "  plt.legend()\n",
        "\n",
        "  plt.show()\n"
      ],
      "execution_count": null,
      "outputs": []
    },
    {
      "cell_type": "code",
      "metadata": {
        "colab": {
          "base_uri": "https://localhost:8080/",
          "height": 768
        },
        "id": "EbmqkDVQ-KvV",
        "outputId": "56810df1-79ef-4877-9708-de3860e79f42"
      },
      "source": [
        "table = np.array([[32, 34, 32, 33, 37],[30, 30, 30, 33, 41],[30, 33, 30, 36, 33],[35, 32, 32, 35, 35],[32, 31, 38, 30, 32],\n",
        "                 [30, 30, 34, 35, 35],[32, 30, 39, 34, 35],[30, 31, 36, 34, 37],[35, 37, 30, 34, 30],[40, 31, 32, 33, 30],\n",
        "                 [35, 36, 30, 31, 32],[31, 34, 30, 35, 34],[43, 36, 33, 31, 32],[35, 33, 39, 30, 31],[39, 37, 33, 37, 32],\n",
        "                 [40, 36, 35, 32, 30],[30, 32, 43, 36, 33],[35, 35, 35, 33, 39],[34, 35, 39, 37, 33],[34, 37, 40, 36, 35],\n",
        "                 [40, 31, 31, 34, 39],[37, 35, 34, 38, 39],[37, 38, 34, 31, 39],[40, 37, 38, 31, 34],[32, 32, 30, 39, 34]])\n",
        "\n",
        "recebeTabela(table)"
      ],
      "execution_count": null,
      "outputs": [
        {
          "output_type": "stream",
          "name": "stdout",
          "text": [
            "A2 para tamanho da amostra = 5: 0.577\n",
            "D4 para tamanho da amostra = 5: 2.115\n",
            "D3 para tamanho da amostra = 5: 0\n",
            "\n",
            "\n"
          ]
        },
        {
          "output_type": "display_data",
          "data": {
            "image/png": "[encoded data removed]",
            "text/plain": [
              "<Figure size 720x360 with 1 Axes>"
            ]
          },
          "metadata": {
            "needs_background": "light"
          }
        },
        {
          "output_type": "stream",
          "name": "stdout",
          "text": [
            "\n",
            "\n"
          ]
        },
        {
          "output_type": "display_data",
          "data": {
            "image/png": "[encoded data removed]",
            "text/plain": [
              "<Figure size 720x360 with 1 Axes>"
            ]
          },
          "metadata": {
            "needs_background": "light"
          }
        }
      ]
    },
    {
      "cell_type": "code",
      "metadata": {
        "colab": {
          "base_uri": "https://localhost:8080/",
          "height": 768
        },
        "id": "sI7DwxuuJotV",
        "outputId": "40558b30-1a05-43c9-c0e2-845497819050"
      },
      "source": [
        "table = np.array([[413, 419, 411, 421],\n",
        "                  [395, 413, 413, 417],\n",
        "                  [425, 407, 423, 417],\n",
        "                  [403, 399, 401, 397],\n",
        "                  [419, 409, 429, 409],\n",
        "                  [407, 407, 407, 409],\n",
        "                  [397, 401, 407, 393],\n",
        "                  [405, 417, 407, 407],\n",
        "                  [411, 415, 409, 405],\n",
        "                  [409, 413, 405, 409],\n",
        "                  [407, 403, 409, 405],\n",
        "                  [407, 411, 415, 415],\n",
        "                  [403, 409, 407, 411],\n",
        "                  [409, 405, 393, 397],\n",
        "                  [419, 415, 401, 395],\n",
        "                  [407, 399, 413, 403],\n",
        "                  [409, 407, 410, 411],\n",
        "                  [427, 417, 409, 407],\n",
        "                  [411, 415, 419, 425],\n",
        "                  [405, 417, 409, 419],\n",
        "                  [397, 407, 417, 405],\n",
        "                  [413, 413, 405, 395],\n",
        "                  [409, 405, 409, 413],\n",
        "                  [403, 399, 399, 405],\n",
        "                  [395, 389, 401, 393]])\n",
        "\n",
        "recebeTabela(table)"
      ],
      "execution_count": null,
      "outputs": [
        {
          "output_type": "stream",
          "name": "stdout",
          "text": [
            "A2 para tamanho da amostra = 4: 0.729\n",
            "D4 para tamanho da amostra = 4: 2.282\n",
            "D3 para tamanho da amostra = 4: 0\n",
            "\n",
            "\n"
          ]
        },
        {
          "output_type": "display_data",
          "data": {
            "image/png": "[encoded data removed]",
            "text/plain": [
              "<Figure size 720x360 with 1 Axes>"
            ]
          },
          "metadata": {
            "needs_background": "light"
          }
        },
        {
          "output_type": "stream",
          "name": "stdout",
          "text": [
            "\n",
            "\n"
          ]
        },
        {
          "output_type": "display_data",
          "data": {
            "image/png": "[encoded data removed]",
            "text/plain": [
              "<Figure size 720x360 with 1 Axes>"
            ]
          },
          "metadata": {
            "needs_background": "light"
          }
        }
      ]
    },
    {
      "cell_type": "markdown",
      "metadata": {
        "id": "X0Cl5mfZp7hG"
      },
      "source": [
        "**Gráfico de Controle para a média e desvio padrão ( desvio padrão amostral )**"
      ]
    },
    {
      "cell_type": "code",
      "metadata": {
        "id": "61Xf5_sliGQW"
      },
      "source": [
        "#LSC = S_barra . B4\n",
        "#LIC = S_barra . B3\n",
        "#LC = S_barra\n",
        "#Com B3 e B4 definidos para o tamanho do subgrupo\n",
        "#O mesmo para A3\n",
        "\n",
        "import matplotlib.pyplot as plt\n",
        "import numpy as np\n",
        "import statistics as sts\n",
        "from math import sqrt\n",
        "\n",
        "def recebeTabela1(A: np.ndarray,B3,B4,A3):\n",
        "  desvios = []\n",
        "  x_barra = []\n",
        "  k = A.shape[0]\n",
        "  n = A[0].shape[0]\n",
        "\n",
        "  for i in A:\n",
        "    media = i.mean()\n",
        "    x_barra.append(media)\n",
        "\n",
        "    std = 0\n",
        "    for j in i:\n",
        "      std += (media - j)**2\n",
        "    \n",
        "    std = std/(n-1)\n",
        "    std = sqrt(std)\n",
        "    desvios.append(std)\n",
        "  \n",
        "  S_barra = sts.mean(desvios)\n",
        "\n",
        "  plotControlgraf(S_barra*B4,S_barra,S_barra*B3,desvios,k,' Desvio-Padrão')\n",
        "\n",
        "  print('\\n')\n",
        "#-------------------------------------------------------------\n",
        "  X__ = sts.mean(x_barra)\n",
        "\n",
        "  plotControlgraf(X__ + (A3*S_barra), X__, X__ - (A3*S_barra),x_barra,k,' Média')\n",
        "\n",
        "\n",
        "def plotControlgraf(LSC,LC,LIC,x,tam,ID):\n",
        "\n",
        "  plt.figure(figsize=(10,5))\n",
        "\n",
        "  rangePlot = np.arange(1,tam+1)\n",
        "\n",
        "  LIC = np.ones(tam)*LIC\n",
        "\n",
        "  LC = np.ones(tam)*LC\n",
        "\n",
        "  LSC = np.ones(tam)*LSC\n",
        "\n",
        "  plt.plot(rangePlot,LIC,label='LIC',linestyle='--')\n",
        "\n",
        "  plt.plot(rangePlot,LC,label='LC',linestyle='--')\n",
        "\n",
        "  plt.plot(rangePlot,LSC,label='LSC',linestyle='--')\n",
        "\n",
        "  plt.plot(rangePlot,x,'.-')\n",
        "\n",
        "  plt.title(\"Gráfico de controle - \"+ID)\n",
        "\n",
        "  plt.grid(True)\n",
        "\n",
        "  plt.legend()\n",
        "\n",
        "  plt.show()"
      ],
      "execution_count": null,
      "outputs": []
    },
    {
      "cell_type": "code",
      "metadata": {
        "colab": {
          "base_uri": "https://localhost:8080/",
          "height": 687
        },
        "id": "YMkqyzu2xfrX",
        "outputId": "aab1625e-15a8-4820-96a1-0b053c2cd4aa"
      },
      "source": [
        "table = np.array([[32, 34, 32, 33, 37],[30, 30, 30, 33, 41],[30, 33, 30, 36, 33],[35, 32, 32, 35, 35],[32, 31, 38, 30, 32],\n",
        "                 [30, 30, 34, 35, 35],[32, 30, 39, 34, 35],[30, 31, 36, 34, 37],[35, 37, 30, 34, 30],[40, 31, 32, 33, 30],\n",
        "                 [35, 36, 30, 31, 32],[31, 34, 30, 35, 34],[43, 36, 33, 31, 32],[35, 33, 39, 30, 31],[39, 37, 33, 37, 32],\n",
        "                 [40, 36, 35, 32, 30],[30, 32, 43, 36, 33],[35, 35, 35, 33, 39],[34, 35, 39, 37, 33],[34, 37, 40, 36, 35],\n",
        "                 [40, 31, 31, 34, 39],[37, 35, 34, 38, 39],[37, 38, 34, 31, 39],[40, 37, 38, 31, 34],[32, 32, 30, 39, 34]])\n",
        "\n",
        "recebeTabela1(table,0,2.809,1.427)"
      ],
      "execution_count": null,
      "outputs": [
        {
          "output_type": "display_data",
          "data": {
            "image/png": "[encoded data removed]",
            "text/plain": [
              "<Figure size 720x360 with 1 Axes>"
            ]
          },
          "metadata": {
            "needs_background": "light"
          }
        },
        {
          "output_type": "stream",
          "name": "stdout",
          "text": [
            "\n",
            "\n"
          ]
        },
        {
          "output_type": "display_data",
          "data": {
            "image/png": "[encoded data removed]",
            "text/plain": [
              "<Figure size 720x360 with 1 Axes>"
            ]
          },
          "metadata": {
            "needs_background": "light"
          }
        }
      ]
    },
    {
      "cell_type": "markdown",
      "metadata": {
        "id": "uoY3f0iU9co1"
      },
      "source": [
        "**Gráfico para Medidas individuais ( X e Amplitude Móvel [AM] )**\n"
      ]
    },
    {
      "cell_type": "code",
      "metadata": {
        "id": "-NtRj1Jp9k_i"
      },
      "source": [
        "#d_2 , D3, D4 são obtidos em fução de n, geralmente n=2 pois é a relação entre \n",
        "#dois valores cosnecutivos.\n",
        "#d_2 = 1.128 , D3 = 0, D4 = 3.267 (para n=2)\n",
        "\n",
        "from math import fabs\n",
        "import numpy as np\n",
        "\n",
        "def recebervetor(X: np.ndarray,d_2,D3,D4):\n",
        "  k = X.shape[0]\n",
        "  AM = np.ones(k-1)\n",
        "\n",
        "  for i in range(1,k):\n",
        "        AM[i-1] = fabs(X[i] - X[i-1])\n",
        "  \n",
        "  AM_barra = AM.mean()\n",
        "  print('AM_:',AM_barra)\n",
        "  X_barra = X.mean()\n",
        "  print('X_:',X_barra)\n",
        "\n",
        "  plotControlgraf(AM_barra*D4, AM_barra, AM_barra*D3, AM, k-1, 'Amplitude móvel')\n",
        "  print('\\n')\n",
        "  plotControlgraf(X_barra + (3*AM_barra/d_2), X_barra, X_barra - (3*AM_barra/d_2), X, k, 'X')\n",
        "\n",
        "\n",
        "\n",
        "def plotControlgraf(LSC,LC,LIC,x,tam,ID):\n",
        "\n",
        "  plt.figure(figsize=(10,5))\n",
        "\n",
        "  rangePlot = np.arange(1,tam+1)\n",
        "\n",
        "  LIC = np.ones(tam)*LIC\n",
        "\n",
        "  LC = np.ones(tam)*LC\n",
        "\n",
        "  LSC = np.ones(tam)*LSC\n",
        "\n",
        "  plt.plot(rangePlot,LIC,label='LIC',linestyle='--')\n",
        "\n",
        "  plt.plot(rangePlot,LC,label='LC',linestyle='--')\n",
        "\n",
        "  plt.plot(rangePlot,LSC,label='LSC',linestyle='--')\n",
        "\n",
        "  plt.plot(rangePlot,x,'.-')\n",
        "\n",
        "  plt.title(\"Gráfico de controle - \"+ID)\n",
        "\n",
        "  plt.grid(True)\n",
        "\n",
        "  plt.legend()\n",
        "\n",
        "  plt.show()\n"
      ],
      "execution_count": null,
      "outputs": []
    },
    {
      "cell_type": "code",
      "source": [
        "rolDados = np.array([13,23,13,16,13,30,27,26,21,10,18,26,24,23,16,27,20,20,26,15,12,30,25,19])\n",
        "recebervetor(rolDados,1.128,0,3.267)"
      ],
      "metadata": {
        "colab": {
          "base_uri": "https://localhost:8080/",
          "height": 724
        },
        "id": "czkg-4ey1qhz",
        "outputId": "7d83624e-9763-4604-d31c-fe3c9f1e3f34"
      },
      "execution_count": null,
      "outputs": [
        {
          "output_type": "stream",
          "name": "stdout",
          "text": [
            "AM_: 6.782608695652174\n",
            "X_: 20.541666666666668\n"
          ]
        },
        {
          "output_type": "display_data",
          "data": {
            "image/png": "[encoded data removed]",
            "text/plain": [
              "<Figure size 720x360 with 1 Axes>"
            ]
          },
          "metadata": {
            "needs_background": "light"
          }
        },
        {
          "output_type": "stream",
          "name": "stdout",
          "text": [
            "\n",
            "\n"
          ]
        },
        {
          "output_type": "display_data",
          "data": {
            "image/png": "[encoded data removed]",
            "text/plain": [
              "<Figure size 720x360 with 1 Axes>"
            ]
          },
          "metadata": {
            "needs_background": "light"
          }
        }
      ]
    },
    {
      "cell_type": "markdown",
      "metadata": {
        "id": "odYNswg4jcUF"
      },
      "source": [
        "Gráfico para a proporção: Ideal para quando os itens são medidos qualitativamente como defeituoso ou não defeituoso.\n",
        "\n",
        "\n"
      ]
    },
    {
      "cell_type": "code",
      "metadata": {
        "id": "vpj8cp-2ibTJ",
        "colab": {
          "base_uri": "https://localhost:8080/"
        },
        "outputId": "8097e7eb-8d4a-40bb-9fc3-66559aed87f8"
      },
      "source": [
        "\n",
        "import pandas as pd\n",
        "import numpy as np\n",
        "\n",
        "\n",
        "df = {'Tamanho do subgrupo':np.ones(25)*100,'Num. defeituosas':[4,2,0,5,3,2,4,3,2,6,1,4,1,0,2,3,1,6,1,3,3,2,0,7,3]}\n",
        "\n",
        "df = pd.DataFrame(df,index=np.arange(1,26))\n",
        "\n",
        "print(df)\n",
        "\n",
        "p_rol = df['Num. defeituosas']/df['Tamanho do subgrupo']\n",
        "\n",
        "p_barra = p_rol.mean()"
      ],
      "execution_count": null,
      "outputs": [
        {
          "output_type": "stream",
          "name": "stdout",
          "text": [
            "    Tamanho do subgrupo  Num. defeituosas\n",
            "1                 100.0                 4\n",
            "2                 100.0                 2\n",
            "3                 100.0                 0\n",
            "4                 100.0                 5\n",
            "5                 100.0                 3\n",
            "6                 100.0                 2\n",
            "7                 100.0                 4\n",
            "8                 100.0                 3\n",
            "9                 100.0                 2\n",
            "10                100.0                 6\n",
            "11                100.0                 1\n",
            "12                100.0                 4\n",
            "13                100.0                 1\n",
            "14                100.0                 0\n",
            "15                100.0                 2\n",
            "16                100.0                 3\n",
            "17                100.0                 1\n",
            "18                100.0                 6\n",
            "19                100.0                 1\n",
            "20                100.0                 3\n",
            "21                100.0                 3\n",
            "22                100.0                 2\n",
            "23                100.0                 0\n",
            "24                100.0                 7\n",
            "25                100.0                 3\n"
          ]
        }
      ]
    },
    {
      "cell_type": "code",
      "metadata": {
        "colab": {
          "base_uri": "https://localhost:8080/"
        },
        "id": "gKkK0LS_nHDP",
        "outputId": "16902ce1-cc7f-4c28-d326-74bf3cd3c6c1"
      },
      "source": [
        "import math\n",
        "dp = math.sqrt( p_barra*(1-p_barra)/len(p_rol) )\n",
        "\n",
        "lim_inf = p_barra - 3*dp \n",
        "LIC = 0 if lim_inf < 0 else lim_inf\n",
        "\n",
        "lim_sup = p_barra + 3*dp\n",
        "LSC = 0 if lim_sup < 0 else lim_sup\n",
        "\n",
        "LC = p_barra\n",
        "\n",
        "print('p_barra: ',p_barra)\n",
        "print('LIC: ',LIC,' | LC: ',LC,' | LSC: ',LSC)"
      ],
      "execution_count": null,
      "outputs": [
        {
          "output_type": "stream",
          "name": "stdout",
          "text": [
            "p_barra:  0.027200000000000005\n",
            "LIC:  0  | LC:  0.027200000000000005  | LSC:  0.12479947540842627\n"
          ]
        }
      ]
    },
    {
      "cell_type": "code",
      "metadata": {
        "colab": {
          "base_uri": "https://localhost:8080/",
          "height": 353
        },
        "id": "VTOEjGHKn3mW",
        "outputId": "73cfed77-6e38-40ba-e623-7e1686f4ed84"
      },
      "source": [
        "import matplotlib.pyplot as plt\n",
        "\n",
        "tam = len(p_rol)\n",
        "\n",
        "plt.figure(figsize=(10,5))\n",
        "\n",
        "rangePlot = range(1,tam+1)\n",
        "\n",
        "LIC = np.ones(tam)*LIC\n",
        "\n",
        "LC = np.ones(tam)*LC\n",
        "\n",
        "LSC = np.ones(tam)*LSC\n",
        "\n",
        "plt.plot(rangePlot,LIC,label='LIC',linestyle='--')\n",
        "\n",
        "plt.plot(rangePlot,LC,label='LC',linestyle='--')\n",
        "\n",
        "plt.plot(rangePlot,LSC,label='LSC',linestyle='--')\n",
        "\n",
        "plt.plot(rangePlot,p_rol,'.-')\n",
        "\n",
        "plt.title(\"Gráfico da média com dp\")\n",
        "\n",
        "plt.grid(True)\n",
        "\n",
        "plt.legend()\n"
      ],
      "execution_count": null,
      "outputs": [
        {
          "output_type": "execute_result",
          "data": {
            "text/plain": [
              "<matplotlib.legend.Legend at 0x7f3f8c7c6b10>"
            ]
          },
          "metadata": {},
          "execution_count": 23
        },
        {
          "output_type": "display_data",
          "data": {
            "image/png": "[encoded data removed]",
            "text/plain": [
              "<Figure size 720x360 with 1 Axes>"
            ]
          },
          "metadata": {
            "needs_background": "light"
          }
        }
      ]
    },
    {
      "cell_type": "markdown",
      "metadata": {
        "id": "kY4JnoLvzApg"
      },
      "source": [
        "**Identificação de processos Autocorrelacionados**\n",
        "\n",
        "Para utilizarmos os gráficos de controle é necessário que as observações das características da qualidade monitorada sejam independentes e normalmente distribuídas.\n",
        "\n",
        "*Mesmo que a hipótese de normalidade seja ligeira ou moderadamente violada, os gráficos tradicionais ainda funcionam razoavelmente.*\n",
        "\n",
        "A autocorrelação é uma característica que existe em alguns processos produtivos, que faz com que os dados não sejam mais independentes ao longo do tempo.\n",
        "\n",
        "A autocorrelação conduz à ocorrência de sucessivos **alarmos falsos** no processo.\n",
        "\n",
        "É importante investigar a existência da estrutura de autocorrelação na definição do gráfico de controle.\n",
        "\n",
        "________________________________________________________________________________\n",
        "\n",
        "Semelhante ao coeficiente de correlação linear de Pearson.\n",
        "\n",
        "$ r(x_i,x_{i+L}) = \\frac{\\sum_{i=1}^{n-L}{(X_i - \\bar{X})(X_{i+L} - \\bar{X})}}{\\sum_{i=1}^{n}(X_i - \\bar{X})^2} $\n",
        "\n",
        "onde L = 'Lag' ou distância.\n",
        "\n",
        "se $r(X_i,X_{i+L}) \\le 0.2$ , então o processo não é autocorrelacionado."
      ]
    },
    {
      "cell_type": "markdown",
      "metadata": {
        "id": "7VWZ7jUIA4NW"
      },
      "source": [
        "Dada a identificação de processo autocorrelacionado,\n",
        "utilizar para o gráfico das médias, limites de controle alargados.\n",
        "\n",
        "Os novos limites de controle são:               \n",
        "\n",
        "$LIC = \\bar{\\bar{X}} - 3\\frac{\\bar{S}}{C_4} $\n",
        "\n",
        "$LSC = \\bar{\\bar{X}} + 3\\frac{\\bar{S}}{C_4} $\n",
        "\n",
        "onde $C_4$ é tabelado em função dos $k$ subgrupos \n"
      ]
    },
    {
      "cell_type": "code",
      "metadata": {
        "id": "o3CMGwsW2YV1"
      },
      "source": [
        "# Imaginemos que estamos plotando um gráfico para x_barra e R\n",
        "# queremos checar se existe correlação em x_barra\n",
        "\n",
        "import numpy as np\n",
        "import pandas as pd\n",
        "\n",
        "x_barra = np.array([31.75,32.25,31,34.25,36.50,35.25,34.50,30.50,33.25,31.50,\n",
        "                    31,30.50,36.75,33.25,34.75,39.25,35.50,35,32.50,31.25])\n",
        "L = 1\n",
        "\n",
        "x_barra_barra = x_barra.mean()\n",
        "\n",
        "numerador = []\n",
        "denominador = []\n",
        "\n",
        "for i in range(len(x_barra)):\n",
        "  a = (x_barra[i] - x_barra_barra)\n",
        "  if i< len(x_barra)-1:\n",
        "    b = (x_barra[i+L] - x_barra_barra)\n",
        "    numerador.append(round(a*b,6))\n",
        "\n",
        "  denominador.append(round(a**2,6))\n",
        "\n",
        "numerador.append(np.nan)"
      ],
      "execution_count": null,
      "outputs": []
    },
    {
      "cell_type": "code",
      "metadata": {
        "colab": {
          "base_uri": "https://localhost:8080/"
        },
        "id": "h4QlIQl_9TyV",
        "outputId": "56be9588-5833-4a56-f14e-1636683fb93f"
      },
      "source": [
        "df = pd.DataFrame({'Numerador':numerador,'Denominador':denominador})\n",
        "\n",
        "correlacao = round(df['Numerador'].sum() / df['Denominador'].sum(),4)\n",
        "\n",
        "print('Coeficiente de correlação = ',correlacao,end='\\n')\n",
        "\n",
        "if correlacao <= 0.2:\n",
        "  print('Processo não autocorrelacionado!')\n",
        "else:\n",
        "  print('Processo autocorrelacionado!')"
      ],
      "execution_count": null,
      "outputs": [
        {
          "output_type": "stream",
          "name": "stdout",
          "text": [
            "Coeficiente de correlação =  0.3161\n",
            "Processo autocorrelacionado!\n"
          ]
        }
      ]
    },
    {
      "cell_type": "markdown",
      "metadata": {
        "id": "wMOc97N5taxY"
      },
      "source": [
        "#Análise dos sistemas de medição"
      ]
    },
    {
      "cell_type": "markdown",
      "metadata": {
        "id": "iH-0E101Z2mi"
      },
      "source": [
        "Quando não há mais de um operador medindo, então não há reprodutibilidade.\n",
        "\n",
        "Logo,  $\\sigma_{repe} = \\sigma_{medição}$ \n",
        "\n",
        "Porcentagem de tolerância:     \n",
        "\n",
        "$PT = \\frac{6\\sigma_{medição}}{LSE - LIE} * 100$\n",
        "\n",
        "onde, $\\sigma_{medição} = \\frac{\\bar{R}}{d_2} $\n",
        "\n",
        "$d_2$ é tabelado em função de quantas vezes o item é medido\n",
        "\n",
        "Para que o instrumento de medição esteja em conformidade, então $PT < 10$"
      ]
    },
    {
      "cell_type": "code",
      "metadata": {
        "id": "_H0qJ4B0uaQP"
      },
      "source": [
        "import pandas as pd\n",
        "import numpy as np\n",
        "import statistics as sts\n",
        "import seaborn as sns\n",
        "import matplotlib.pyplot as plt\n",
        "import math"
      ],
      "execution_count": null,
      "outputs": []
    },
    {
      "cell_type": "markdown",
      "metadata": {
        "id": "HdKAA0YW51XN"
      },
      "source": [
        "Análise da repetitividade"
      ]
    },
    {
      "cell_type": "code",
      "metadata": {
        "colab": {
          "base_uri": "https://localhost:8080/",
          "height": 669
        },
        "id": "UlWMP7xIoCHv",
        "outputId": "a4ec6573-2cea-479f-e0c3-43ace4da8ec1"
      },
      "source": [
        "# Dados correspondentes a uma amostra de 20 rolhas metálicas para o estudo da repetitividade\n",
        "# Característica: Altura da rolha.\n",
        "# Faixa de especificação: [5.80 , 6.20]\n",
        "\n",
        "medidas1 = [5.99,5.97,6.00,5.98,5.99,6.01,6.02,5.98,5.99,6.00,5.97,6.02,6.01,5.99,6.01,5.99,5.99,5.99,6.01,5.98]\n",
        "medidas2 = [5.98,5.99,6.00,5.99,6.02,5.98,6.00,5.98,5.98,5.98,5.97,5.99,6.00,5.99,5.99,5.99,5.98,5.99,6.00,6.01]\n",
        "df = pd.DataFrame({'Amostras': np.arange(1,21),'Medida1':medidas1,'Medida2':medidas2})\n",
        "\n",
        "df"
      ],
      "execution_count": null,
      "outputs": [
        {
          "output_type": "execute_result",
          "data": {
            "text/html": [
              "<div>\n",
              "<style scoped>\n",
              "    .dataframe tbody tr th:only-of-type {\n",
              "        vertical-align: middle;\n",
              "    }\n",
              "\n",
              "    .dataframe tbody tr th {\n",
              "        vertical-align: top;\n",
              "    }\n",
              "\n",
              "    .dataframe thead th {\n",
              "        text-align: right;\n",
              "    }\n",
              "</style>\n",
              "<table border=\"1\" class=\"dataframe\">\n",
              "  <thead>\n",
              "    <tr style=\"text-align: right;\">\n",
              "      <th></th>\n",
              "      <th>Amostras</th>\n",
              "      <th>Medida1</th>\n",
              "      <th>Medida2</th>\n",
              "    </tr>\n",
              "  </thead>\n",
              "  <tbody>\n",
              "    <tr>\n",
              "      <th>0</th>\n",
              "      <td>1</td>\n",
              "      <td>5.99</td>\n",
              "      <td>5.98</td>\n",
              "    </tr>\n",
              "    <tr>\n",
              "      <th>1</th>\n",
              "      <td>2</td>\n",
              "      <td>5.97</td>\n",
              "      <td>5.99</td>\n",
              "    </tr>\n",
              "    <tr>\n",
              "      <th>2</th>\n",
              "      <td>3</td>\n",
              "      <td>6.00</td>\n",
              "      <td>6.00</td>\n",
              "    </tr>\n",
              "    <tr>\n",
              "      <th>3</th>\n",
              "      <td>4</td>\n",
              "      <td>5.98</td>\n",
              "      <td>5.99</td>\n",
              "    </tr>\n",
              "    <tr>\n",
              "      <th>4</th>\n",
              "      <td>5</td>\n",
              "      <td>5.99</td>\n",
              "      <td>6.02</td>\n",
              "    </tr>\n",
              "    <tr>\n",
              "      <th>5</th>\n",
              "      <td>6</td>\n",
              "      <td>6.01</td>\n",
              "      <td>5.98</td>\n",
              "    </tr>\n",
              "    <tr>\n",
              "      <th>6</th>\n",
              "      <td>7</td>\n",
              "      <td>6.02</td>\n",
              "      <td>6.00</td>\n",
              "    </tr>\n",
              "    <tr>\n",
              "      <th>7</th>\n",
              "      <td>8</td>\n",
              "      <td>5.98</td>\n",
              "      <td>5.98</td>\n",
              "    </tr>\n",
              "    <tr>\n",
              "      <th>8</th>\n",
              "      <td>9</td>\n",
              "      <td>5.99</td>\n",
              "      <td>5.98</td>\n",
              "    </tr>\n",
              "    <tr>\n",
              "      <th>9</th>\n",
              "      <td>10</td>\n",
              "      <td>6.00</td>\n",
              "      <td>5.98</td>\n",
              "    </tr>\n",
              "    <tr>\n",
              "      <th>10</th>\n",
              "      <td>11</td>\n",
              "      <td>5.97</td>\n",
              "      <td>5.97</td>\n",
              "    </tr>\n",
              "    <tr>\n",
              "      <th>11</th>\n",
              "      <td>12</td>\n",
              "      <td>6.02</td>\n",
              "      <td>5.99</td>\n",
              "    </tr>\n",
              "    <tr>\n",
              "      <th>12</th>\n",
              "      <td>13</td>\n",
              "      <td>6.01</td>\n",
              "      <td>6.00</td>\n",
              "    </tr>\n",
              "    <tr>\n",
              "      <th>13</th>\n",
              "      <td>14</td>\n",
              "      <td>5.99</td>\n",
              "      <td>5.99</td>\n",
              "    </tr>\n",
              "    <tr>\n",
              "      <th>14</th>\n",
              "      <td>15</td>\n",
              "      <td>6.01</td>\n",
              "      <td>5.99</td>\n",
              "    </tr>\n",
              "    <tr>\n",
              "      <th>15</th>\n",
              "      <td>16</td>\n",
              "      <td>5.99</td>\n",
              "      <td>5.99</td>\n",
              "    </tr>\n",
              "    <tr>\n",
              "      <th>16</th>\n",
              "      <td>17</td>\n",
              "      <td>5.99</td>\n",
              "      <td>5.98</td>\n",
              "    </tr>\n",
              "    <tr>\n",
              "      <th>17</th>\n",
              "      <td>18</td>\n",
              "      <td>5.99</td>\n",
              "      <td>5.99</td>\n",
              "    </tr>\n",
              "    <tr>\n",
              "      <th>18</th>\n",
              "      <td>19</td>\n",
              "      <td>6.01</td>\n",
              "      <td>6.00</td>\n",
              "    </tr>\n",
              "    <tr>\n",
              "      <th>19</th>\n",
              "      <td>20</td>\n",
              "      <td>5.98</td>\n",
              "      <td>6.01</td>\n",
              "    </tr>\n",
              "  </tbody>\n",
              "</table>\n",
              "</div>"
            ],
            "text/plain": [
              "    Amostras  Medida1  Medida2\n",
              "0          1     5.99     5.98\n",
              "1          2     5.97     5.99\n",
              "2          3     6.00     6.00\n",
              "3          4     5.98     5.99\n",
              "4          5     5.99     6.02\n",
              "5          6     6.01     5.98\n",
              "6          7     6.02     6.00\n",
              "7          8     5.98     5.98\n",
              "8          9     5.99     5.98\n",
              "9         10     6.00     5.98\n",
              "10        11     5.97     5.97\n",
              "11        12     6.02     5.99\n",
              "12        13     6.01     6.00\n",
              "13        14     5.99     5.99\n",
              "14        15     6.01     5.99\n",
              "15        16     5.99     5.99\n",
              "16        17     5.99     5.98\n",
              "17        18     5.99     5.99\n",
              "18        19     6.01     6.00\n",
              "19        20     5.98     6.01"
            ]
          },
          "metadata": {},
          "execution_count": 3
        }
      ]
    },
    {
      "cell_type": "code",
      "metadata": {
        "colab": {
          "base_uri": "https://localhost:8080/",
          "height": 669
        },
        "id": "d5mUOPa4yRc0",
        "outputId": "ed1b6a60-d503-4cea-9b3e-d64f3b0e95ef"
      },
      "source": [
        "#Calculando R barra\n",
        "\n",
        "def amplitude(x,y):\n",
        "  return math.fabs(x-y)\n",
        "\n",
        "df['Amplitude'] = df.apply(lambda f: math.fabs(f['Medida1']-f['Medida2']),axis=1)\n",
        "\n",
        "df"
      ],
      "execution_count": null,
      "outputs": [
        {
          "output_type": "execute_result",
          "data": {
            "text/html": [
              "<div>\n",
              "<style scoped>\n",
              "    .dataframe tbody tr th:only-of-type {\n",
              "        vertical-align: middle;\n",
              "    }\n",
              "\n",
              "    .dataframe tbody tr th {\n",
              "        vertical-align: top;\n",
              "    }\n",
              "\n",
              "    .dataframe thead th {\n",
              "        text-align: right;\n",
              "    }\n",
              "</style>\n",
              "<table border=\"1\" class=\"dataframe\">\n",
              "  <thead>\n",
              "    <tr style=\"text-align: right;\">\n",
              "      <th></th>\n",
              "      <th>Amostras</th>\n",
              "      <th>Medida1</th>\n",
              "      <th>Medida2</th>\n",
              "      <th>Amplitude</th>\n",
              "    </tr>\n",
              "  </thead>\n",
              "  <tbody>\n",
              "    <tr>\n",
              "      <th>0</th>\n",
              "      <td>1</td>\n",
              "      <td>5.99</td>\n",
              "      <td>5.98</td>\n",
              "      <td>0.01</td>\n",
              "    </tr>\n",
              "    <tr>\n",
              "      <th>1</th>\n",
              "      <td>2</td>\n",
              "      <td>5.97</td>\n",
              "      <td>5.99</td>\n",
              "      <td>0.02</td>\n",
              "    </tr>\n",
              "    <tr>\n",
              "      <th>2</th>\n",
              "      <td>3</td>\n",
              "      <td>6.00</td>\n",
              "      <td>6.00</td>\n",
              "      <td>0.00</td>\n",
              "    </tr>\n",
              "    <tr>\n",
              "      <th>3</th>\n",
              "      <td>4</td>\n",
              "      <td>5.98</td>\n",
              "      <td>5.99</td>\n",
              "      <td>0.01</td>\n",
              "    </tr>\n",
              "    <tr>\n",
              "      <th>4</th>\n",
              "      <td>5</td>\n",
              "      <td>5.99</td>\n",
              "      <td>6.02</td>\n",
              "      <td>0.03</td>\n",
              "    </tr>\n",
              "    <tr>\n",
              "      <th>5</th>\n",
              "      <td>6</td>\n",
              "      <td>6.01</td>\n",
              "      <td>5.98</td>\n",
              "      <td>0.03</td>\n",
              "    </tr>\n",
              "    <tr>\n",
              "      <th>6</th>\n",
              "      <td>7</td>\n",
              "      <td>6.02</td>\n",
              "      <td>6.00</td>\n",
              "      <td>0.02</td>\n",
              "    </tr>\n",
              "    <tr>\n",
              "      <th>7</th>\n",
              "      <td>8</td>\n",
              "      <td>5.98</td>\n",
              "      <td>5.98</td>\n",
              "      <td>0.00</td>\n",
              "    </tr>\n",
              "    <tr>\n",
              "      <th>8</th>\n",
              "      <td>9</td>\n",
              "      <td>5.99</td>\n",
              "      <td>5.98</td>\n",
              "      <td>0.01</td>\n",
              "    </tr>\n",
              "    <tr>\n",
              "      <th>9</th>\n",
              "      <td>10</td>\n",
              "      <td>6.00</td>\n",
              "      <td>5.98</td>\n",
              "      <td>0.02</td>\n",
              "    </tr>\n",
              "    <tr>\n",
              "      <th>10</th>\n",
              "      <td>11</td>\n",
              "      <td>5.97</td>\n",
              "      <td>5.97</td>\n",
              "      <td>0.00</td>\n",
              "    </tr>\n",
              "    <tr>\n",
              "      <th>11</th>\n",
              "      <td>12</td>\n",
              "      <td>6.02</td>\n",
              "      <td>5.99</td>\n",
              "      <td>0.03</td>\n",
              "    </tr>\n",
              "    <tr>\n",
              "      <th>12</th>\n",
              "      <td>13</td>\n",
              "      <td>6.01</td>\n",
              "      <td>6.00</td>\n",
              "      <td>0.01</td>\n",
              "    </tr>\n",
              "    <tr>\n",
              "      <th>13</th>\n",
              "      <td>14</td>\n",
              "      <td>5.99</td>\n",
              "      <td>5.99</td>\n",
              "      <td>0.00</td>\n",
              "    </tr>\n",
              "    <tr>\n",
              "      <th>14</th>\n",
              "      <td>15</td>\n",
              "      <td>6.01</td>\n",
              "      <td>5.99</td>\n",
              "      <td>0.02</td>\n",
              "    </tr>\n",
              "    <tr>\n",
              "      <th>15</th>\n",
              "      <td>16</td>\n",
              "      <td>5.99</td>\n",
              "      <td>5.99</td>\n",
              "      <td>0.00</td>\n",
              "    </tr>\n",
              "    <tr>\n",
              "      <th>16</th>\n",
              "      <td>17</td>\n",
              "      <td>5.99</td>\n",
              "      <td>5.98</td>\n",
              "      <td>0.01</td>\n",
              "    </tr>\n",
              "    <tr>\n",
              "      <th>17</th>\n",
              "      <td>18</td>\n",
              "      <td>5.99</td>\n",
              "      <td>5.99</td>\n",
              "      <td>0.00</td>\n",
              "    </tr>\n",
              "    <tr>\n",
              "      <th>18</th>\n",
              "      <td>19</td>\n",
              "      <td>6.01</td>\n",
              "      <td>6.00</td>\n",
              "      <td>0.01</td>\n",
              "    </tr>\n",
              "    <tr>\n",
              "      <th>19</th>\n",
              "      <td>20</td>\n",
              "      <td>5.98</td>\n",
              "      <td>6.01</td>\n",
              "      <td>0.03</td>\n",
              "    </tr>\n",
              "  </tbody>\n",
              "</table>\n",
              "</div>"
            ],
            "text/plain": [
              "    Amostras  Medida1  Medida2  Amplitude\n",
              "0          1     5.99     5.98       0.01\n",
              "1          2     5.97     5.99       0.02\n",
              "2          3     6.00     6.00       0.00\n",
              "3          4     5.98     5.99       0.01\n",
              "4          5     5.99     6.02       0.03\n",
              "5          6     6.01     5.98       0.03\n",
              "6          7     6.02     6.00       0.02\n",
              "7          8     5.98     5.98       0.00\n",
              "8          9     5.99     5.98       0.01\n",
              "9         10     6.00     5.98       0.02\n",
              "10        11     5.97     5.97       0.00\n",
              "11        12     6.02     5.99       0.03\n",
              "12        13     6.01     6.00       0.01\n",
              "13        14     5.99     5.99       0.00\n",
              "14        15     6.01     5.99       0.02\n",
              "15        16     5.99     5.99       0.00\n",
              "16        17     5.99     5.98       0.01\n",
              "17        18     5.99     5.99       0.00\n",
              "18        19     6.01     6.00       0.01\n",
              "19        20     5.98     6.01       0.03"
            ]
          },
          "metadata": {},
          "execution_count": 4
        }
      ]
    },
    {
      "cell_type": "code",
      "metadata": {
        "colab": {
          "base_uri": "https://localhost:8080/",
          "height": 350
        },
        "id": "46ATQ3li3SGf",
        "outputId": "91441219-c6f3-48df-cdd1-dad5a8dd0e29"
      },
      "source": [
        "sns.distplot(df['Amplitude'])"
      ],
      "execution_count": null,
      "outputs": [
        {
          "output_type": "stream",
          "name": "stderr",
          "text": [
            "/usr/local/lib/python3.7/dist-packages/seaborn/distributions.py:2619: FutureWarning: `distplot` is a deprecated function and will be removed in a future version. Please adapt your code to use either `displot` (a figure-level function with similar flexibility) or `histplot` (an axes-level function for histograms).\n",
            "  warnings.warn(msg, FutureWarning)\n"
          ]
        },
        {
          "output_type": "execute_result",
          "data": {
            "text/plain": [
              "<matplotlib.axes._subplots.AxesSubplot at 0x7f729bdee390>"
            ]
          },
          "metadata": {},
          "execution_count": 5
        },
        {
          "output_type": "display_data",
          "data": {
            "image/png": "[encoded data removed]",
            "text/plain": [
              "<Figure size 432x288 with 1 Axes>"
            ]
          },
          "metadata": {
            "needs_background": "light"
          }
        }
      ]
    },
    {
      "cell_type": "code",
      "metadata": {
        "colab": {
          "base_uri": "https://localhost:8080/"
        },
        "id": "hHRCLCO93f2S",
        "outputId": "9c35a228-c71c-4555-ae22-516c7b0721cf"
      },
      "source": [
        "#Calculando PT , com n=2 ( duas medições por unidade )\n",
        "\n",
        "limitesEspecificacao = [5.80,6.20]\n",
        "\n",
        "R_barra = df['Amplitude'].mean()\n",
        "print('R_barra: ',R_barra)\n",
        "\n",
        "sigma_medi = R_barra / 1.128\n",
        "\n",
        "PT = ((6*sigma_medi) / (limitesEspecificacao[1] - limitesEspecificacao[0]) ) * 100\n",
        "\n",
        "print(PT)\n",
        "\n",
        "if PT < 10:\n",
        "  print('Instrumento de medição adequado')\n",
        "else:\n",
        "  print('Instrumento inadequado')"
      ],
      "execution_count": null,
      "outputs": [
        {
          "output_type": "stream",
          "name": "stdout",
          "text": [
            "R_barra:  0.012999999999999767\n",
            "17.287234042552868\n",
            "Instrumento inadequado\n"
          ]
        }
      ]
    },
    {
      "cell_type": "markdown",
      "metadata": {
        "id": "JElUQa2-54S4"
      },
      "source": [
        "**REPETITIVIDADE para quando há mais de 1 operador ( há reprodutibilidade )**"
      ]
    },
    {
      "cell_type": "markdown",
      "metadata": {
        "id": "qAfvy_04dOxc"
      },
      "source": [
        "Repetitividade:      \n",
        "\n",
        "Para o caso em que há reprodutibilidade ( mais de 1 operador realizando medição )\n",
        "\n",
        "Temos:  $ \\sigma_{repe} = \\frac{\\bar{\\bar{R}}}{d_2} $\n",
        "\n",
        "Onde, $ \\bar{\\bar{R}} $ é a média das amplitudes médias das medições de cada operador.\n",
        "\n",
        "e $ d_2 $ é obtido da tabela para o número de vezes em que cada item foi medido.\n",
        "\n",
        "Assim, $PT_{repe} = \\frac{6\\sigma_{repe}}{LSE - LIE} * 100 $"
      ]
    },
    {
      "cell_type": "code",
      "metadata": {
        "colab": {
          "base_uri": "https://localhost:8080/",
          "height": 669
        },
        "id": "1agGvpaJ56tZ",
        "outputId": "11a32f9f-31fc-49f9-98cd-5251a74a77d3"
      },
      "source": [
        "# Repetitividade para casos com mais de um operador\n",
        "\n",
        "limitesEspecificacao = [5.80,6.20]\n",
        "\n",
        "medidas1 = [5.99,5.97,6.00,5.98,5.99,6.01,6.02,5.98,5.99,6.00,5.97,6.02,6.01,5.99,6.01,5.99,5.99,5.99,6.01,5.98]\n",
        "medidas2 = [5.98,5.99,6.00,5.99,6.02,5.98,6.00,5.98,5.98,5.98,5.97,5.99,6.00,5.99,5.99,5.99,5.98,5.99,6.00,6.01]\n",
        "\n",
        "medidasOP1 = []\n",
        "\n",
        "for i in range(len(medidas1)):\n",
        "  medidasOP1.append((medidas1[i],medidas2[i]))\n",
        "\n",
        "\n",
        "medidasOP2 = [(5.97,5.99),(6.00,6.00),(6.02,6.00),(5.99,5.98),(6.01,6.02),\n",
        "              (5.98,6.01),(6.00,6.00),(5.98,5.97),(5.99,5.99),(6.01,5.98),\n",
        "              (6.00,5.98),(5.97,5.99),(6.01,6.02),(6.00,5.98),(6.00,6.00),\n",
        "              (6.00,5.99),(5.97,5.99),(5.98,6.03),(6.02,6.01),(6.03,6.00)]\n",
        "\n",
        "medidasOP3 = [(6.00,5.99),(6.00,6.00),(6.01,6.00),(5.99,5.98),(6.01,5.98),\n",
        "              (5.99,5.99),(6.01,6.00),(6.00,5.99),(5.99,5.98),(5.98,6.01),\n",
        "              (5.98,5.99),(5.98,5.97),(6.01,6.01),(6.00,6.02),(6.01,6.00),\n",
        "              (5.98,6.00),(5.99,5.99),(5.99,6.00),(6.01,6.02),(5.98,6.00)]\n",
        "\n",
        "df = pd.DataFrame({'Amostras': np.arange(1,21),'Medidas - OP1':medidasOP1,'Medidas - OP2':medidasOP2,'Medidas - OP3':medidasOP3})\n",
        "\n",
        "df"
      ],
      "execution_count": null,
      "outputs": [
        {
          "output_type": "execute_result",
          "data": {
            "text/html": [
              "<div>\n",
              "<style scoped>\n",
              "    .dataframe tbody tr th:only-of-type {\n",
              "        vertical-align: middle;\n",
              "    }\n",
              "\n",
              "    .dataframe tbody tr th {\n",
              "        vertical-align: top;\n",
              "    }\n",
              "\n",
              "    .dataframe thead th {\n",
              "        text-align: right;\n",
              "    }\n",
              "</style>\n",
              "<table border=\"1\" class=\"dataframe\">\n",
              "  <thead>\n",
              "    <tr style=\"text-align: right;\">\n",
              "      <th></th>\n",
              "      <th>Amostras</th>\n",
              "      <th>Medidas - OP1</th>\n",
              "      <th>Medidas - OP2</th>\n",
              "      <th>Medidas - OP3</th>\n",
              "    </tr>\n",
              "  </thead>\n",
              "  <tbody>\n",
              "    <tr>\n",
              "      <th>0</th>\n",
              "      <td>1</td>\n",
              "      <td>(5.99, 5.98)</td>\n",
              "      <td>(5.97, 5.99)</td>\n",
              "      <td>(6.0, 5.99)</td>\n",
              "    </tr>\n",
              "    <tr>\n",
              "      <th>1</th>\n",
              "      <td>2</td>\n",
              "      <td>(5.97, 5.99)</td>\n",
              "      <td>(6.0, 6.0)</td>\n",
              "      <td>(6.0, 6.0)</td>\n",
              "    </tr>\n",
              "    <tr>\n",
              "      <th>2</th>\n",
              "      <td>3</td>\n",
              "      <td>(6.0, 6.0)</td>\n",
              "      <td>(6.02, 6.0)</td>\n",
              "      <td>(6.01, 6.0)</td>\n",
              "    </tr>\n",
              "    <tr>\n",
              "      <th>3</th>\n",
              "      <td>4</td>\n",
              "      <td>(5.98, 5.99)</td>\n",
              "      <td>(5.99, 5.98)</td>\n",
              "      <td>(5.99, 5.98)</td>\n",
              "    </tr>\n",
              "    <tr>\n",
              "      <th>4</th>\n",
              "      <td>5</td>\n",
              "      <td>(5.99, 6.02)</td>\n",
              "      <td>(6.01, 6.02)</td>\n",
              "      <td>(6.01, 5.98)</td>\n",
              "    </tr>\n",
              "    <tr>\n",
              "      <th>5</th>\n",
              "      <td>6</td>\n",
              "      <td>(6.01, 5.98)</td>\n",
              "      <td>(5.98, 6.01)</td>\n",
              "      <td>(5.99, 5.99)</td>\n",
              "    </tr>\n",
              "    <tr>\n",
              "      <th>6</th>\n",
              "      <td>7</td>\n",
              "      <td>(6.02, 6.0)</td>\n",
              "      <td>(6.0, 6.0)</td>\n",
              "      <td>(6.01, 6.0)</td>\n",
              "    </tr>\n",
              "    <tr>\n",
              "      <th>7</th>\n",
              "      <td>8</td>\n",
              "      <td>(5.98, 5.98)</td>\n",
              "      <td>(5.98, 5.97)</td>\n",
              "      <td>(6.0, 5.99)</td>\n",
              "    </tr>\n",
              "    <tr>\n",
              "      <th>8</th>\n",
              "      <td>9</td>\n",
              "      <td>(5.99, 5.98)</td>\n",
              "      <td>(5.99, 5.99)</td>\n",
              "      <td>(5.99, 5.98)</td>\n",
              "    </tr>\n",
              "    <tr>\n",
              "      <th>9</th>\n",
              "      <td>10</td>\n",
              "      <td>(6.0, 5.98)</td>\n",
              "      <td>(6.01, 5.98)</td>\n",
              "      <td>(5.98, 6.01)</td>\n",
              "    </tr>\n",
              "    <tr>\n",
              "      <th>10</th>\n",
              "      <td>11</td>\n",
              "      <td>(5.97, 5.97)</td>\n",
              "      <td>(6.0, 5.98)</td>\n",
              "      <td>(5.98, 5.99)</td>\n",
              "    </tr>\n",
              "    <tr>\n",
              "      <th>11</th>\n",
              "      <td>12</td>\n",
              "      <td>(6.02, 5.99)</td>\n",
              "      <td>(5.97, 5.99)</td>\n",
              "      <td>(5.98, 5.97)</td>\n",
              "    </tr>\n",
              "    <tr>\n",
              "      <th>12</th>\n",
              "      <td>13</td>\n",
              "      <td>(6.01, 6.0)</td>\n",
              "      <td>(6.01, 6.02)</td>\n",
              "      <td>(6.01, 6.01)</td>\n",
              "    </tr>\n",
              "    <tr>\n",
              "      <th>13</th>\n",
              "      <td>14</td>\n",
              "      <td>(5.99, 5.99)</td>\n",
              "      <td>(6.0, 5.98)</td>\n",
              "      <td>(6.0, 6.02)</td>\n",
              "    </tr>\n",
              "    <tr>\n",
              "      <th>14</th>\n",
              "      <td>15</td>\n",
              "      <td>(6.01, 5.99)</td>\n",
              "      <td>(6.0, 6.0)</td>\n",
              "      <td>(6.01, 6.0)</td>\n",
              "    </tr>\n",
              "    <tr>\n",
              "      <th>15</th>\n",
              "      <td>16</td>\n",
              "      <td>(5.99, 5.99)</td>\n",
              "      <td>(6.0, 5.99)</td>\n",
              "      <td>(5.98, 6.0)</td>\n",
              "    </tr>\n",
              "    <tr>\n",
              "      <th>16</th>\n",
              "      <td>17</td>\n",
              "      <td>(5.99, 5.98)</td>\n",
              "      <td>(5.97, 5.99)</td>\n",
              "      <td>(5.99, 5.99)</td>\n",
              "    </tr>\n",
              "    <tr>\n",
              "      <th>17</th>\n",
              "      <td>18</td>\n",
              "      <td>(5.99, 5.99)</td>\n",
              "      <td>(5.98, 6.03)</td>\n",
              "      <td>(5.99, 6.0)</td>\n",
              "    </tr>\n",
              "    <tr>\n",
              "      <th>18</th>\n",
              "      <td>19</td>\n",
              "      <td>(6.01, 6.0)</td>\n",
              "      <td>(6.02, 6.01)</td>\n",
              "      <td>(6.01, 6.02)</td>\n",
              "    </tr>\n",
              "    <tr>\n",
              "      <th>19</th>\n",
              "      <td>20</td>\n",
              "      <td>(5.98, 6.01)</td>\n",
              "      <td>(6.03, 6.0)</td>\n",
              "      <td>(5.98, 6.0)</td>\n",
              "    </tr>\n",
              "  </tbody>\n",
              "</table>\n",
              "</div>"
            ],
            "text/plain": [
              "    Amostras Medidas - OP1 Medidas - OP2 Medidas - OP3\n",
              "0          1  (5.99, 5.98)  (5.97, 5.99)   (6.0, 5.99)\n",
              "1          2  (5.97, 5.99)    (6.0, 6.0)    (6.0, 6.0)\n",
              "2          3    (6.0, 6.0)   (6.02, 6.0)   (6.01, 6.0)\n",
              "3          4  (5.98, 5.99)  (5.99, 5.98)  (5.99, 5.98)\n",
              "4          5  (5.99, 6.02)  (6.01, 6.02)  (6.01, 5.98)\n",
              "5          6  (6.01, 5.98)  (5.98, 6.01)  (5.99, 5.99)\n",
              "6          7   (6.02, 6.0)    (6.0, 6.0)   (6.01, 6.0)\n",
              "7          8  (5.98, 5.98)  (5.98, 5.97)   (6.0, 5.99)\n",
              "8          9  (5.99, 5.98)  (5.99, 5.99)  (5.99, 5.98)\n",
              "9         10   (6.0, 5.98)  (6.01, 5.98)  (5.98, 6.01)\n",
              "10        11  (5.97, 5.97)   (6.0, 5.98)  (5.98, 5.99)\n",
              "11        12  (6.02, 5.99)  (5.97, 5.99)  (5.98, 5.97)\n",
              "12        13   (6.01, 6.0)  (6.01, 6.02)  (6.01, 6.01)\n",
              "13        14  (5.99, 5.99)   (6.0, 5.98)   (6.0, 6.02)\n",
              "14        15  (6.01, 5.99)    (6.0, 6.0)   (6.01, 6.0)\n",
              "15        16  (5.99, 5.99)   (6.0, 5.99)   (5.98, 6.0)\n",
              "16        17  (5.99, 5.98)  (5.97, 5.99)  (5.99, 5.99)\n",
              "17        18  (5.99, 5.99)  (5.98, 6.03)   (5.99, 6.0)\n",
              "18        19   (6.01, 6.0)  (6.02, 6.01)  (6.01, 6.02)\n",
              "19        20  (5.98, 6.01)   (6.03, 6.0)   (5.98, 6.0)"
            ]
          },
          "metadata": {},
          "execution_count": 10
        }
      ]
    },
    {
      "cell_type": "markdown",
      "metadata": {
        "id": "Z1ES0F93Bghm"
      },
      "source": [
        "Para analisar a repetitividade neste cenário, nós tomamos:\n",
        "\n",
        "a média das médias das amplitudes relativas a cada operador\n",
        "\n",
        "e sigma da repetitividade é esta média / d2"
      ]
    },
    {
      "cell_type": "code",
      "metadata": {
        "id": "vcOQm-CyCIQD",
        "colab": {
          "base_uri": "https://localhost:8080/"
        },
        "outputId": "e18b94d9-a952-4dc9-c74f-b24378cf5dcf"
      },
      "source": [
        "#R_barra:\n",
        "\n",
        "Amplitudes = []\n",
        "\n",
        "sum = 0\n",
        "\n",
        "df['Amplitudes - OP1'] = df.apply(lambda f: max(f['Medidas - OP1']) - min(f['Medidas - OP1']),axis=1)\n",
        "\n",
        "df['Amplitudes - OP2'] = df.apply(lambda f: max(f['Medidas - OP2']) - min(f['Medidas - OP2']),axis=1)\n",
        "\n",
        "df['Amplitudes - OP3'] = df.apply(lambda f: max(f['Medidas - OP3']) - min(f['Medidas - OP3']),axis=1)\n",
        "\n",
        "Amplitudes.append(df['Amplitudes - OP1'].mean())\n",
        "Amplitudes.append(df['Amplitudes - OP2'].mean())\n",
        "Amplitudes.append(df['Amplitudes - OP3'].mean())\n",
        "\n",
        "R_barra_barra = sts.mean(Amplitudes)\n",
        "\n",
        "print(R_barra_barra)"
      ],
      "execution_count": null,
      "outputs": [
        {
          "output_type": "stream",
          "name": "stdout",
          "text": [
            "0.01349999999999983\n"
          ]
        }
      ]
    },
    {
      "cell_type": "code",
      "metadata": {
        "colab": {
          "base_uri": "https://localhost:8080/",
          "height": 669
        },
        "id": "8N-CPZ1DiALW",
        "outputId": "2e3fdabf-37ba-484a-fe06-046b6df37d58"
      },
      "source": [
        "df"
      ],
      "execution_count": null,
      "outputs": [
        {
          "output_type": "execute_result",
          "data": {
            "text/html": [
              "<div>\n",
              "<style scoped>\n",
              "    .dataframe tbody tr th:only-of-type {\n",
              "        vertical-align: middle;\n",
              "    }\n",
              "\n",
              "    .dataframe tbody tr th {\n",
              "        vertical-align: top;\n",
              "    }\n",
              "\n",
              "    .dataframe thead th {\n",
              "        text-align: right;\n",
              "    }\n",
              "</style>\n",
              "<table border=\"1\" class=\"dataframe\">\n",
              "  <thead>\n",
              "    <tr style=\"text-align: right;\">\n",
              "      <th></th>\n",
              "      <th>Amostras</th>\n",
              "      <th>Medidas - OP1</th>\n",
              "      <th>Medidas - OP2</th>\n",
              "      <th>Medidas - OP3</th>\n",
              "      <th>Amplitudes - OP1</th>\n",
              "      <th>Amplitudes - OP2</th>\n",
              "      <th>Amplitudes - OP3</th>\n",
              "    </tr>\n",
              "  </thead>\n",
              "  <tbody>\n",
              "    <tr>\n",
              "      <th>0</th>\n",
              "      <td>1</td>\n",
              "      <td>(5.99, 5.98)</td>\n",
              "      <td>(5.97, 5.99)</td>\n",
              "      <td>(6.0, 5.99)</td>\n",
              "      <td>0.01</td>\n",
              "      <td>0.02</td>\n",
              "      <td>0.01</td>\n",
              "    </tr>\n",
              "    <tr>\n",
              "      <th>1</th>\n",
              "      <td>2</td>\n",
              "      <td>(5.97, 5.99)</td>\n",
              "      <td>(6.0, 6.0)</td>\n",
              "      <td>(6.0, 6.0)</td>\n",
              "      <td>0.02</td>\n",
              "      <td>0.00</td>\n",
              "      <td>0.00</td>\n",
              "    </tr>\n",
              "    <tr>\n",
              "      <th>2</th>\n",
              "      <td>3</td>\n",
              "      <td>(6.0, 6.0)</td>\n",
              "      <td>(6.02, 6.0)</td>\n",
              "      <td>(6.01, 6.0)</td>\n",
              "      <td>0.00</td>\n",
              "      <td>0.02</td>\n",
              "      <td>0.01</td>\n",
              "    </tr>\n",
              "    <tr>\n",
              "      <th>3</th>\n",
              "      <td>4</td>\n",
              "      <td>(5.98, 5.99)</td>\n",
              "      <td>(5.99, 5.98)</td>\n",
              "      <td>(5.99, 5.98)</td>\n",
              "      <td>0.01</td>\n",
              "      <td>0.01</td>\n",
              "      <td>0.01</td>\n",
              "    </tr>\n",
              "    <tr>\n",
              "      <th>4</th>\n",
              "      <td>5</td>\n",
              "      <td>(5.99, 6.02)</td>\n",
              "      <td>(6.01, 6.02)</td>\n",
              "      <td>(6.01, 5.98)</td>\n",
              "      <td>0.03</td>\n",
              "      <td>0.01</td>\n",
              "      <td>0.03</td>\n",
              "    </tr>\n",
              "    <tr>\n",
              "      <th>5</th>\n",
              "      <td>6</td>\n",
              "      <td>(6.01, 5.98)</td>\n",
              "      <td>(5.98, 6.01)</td>\n",
              "      <td>(5.99, 5.99)</td>\n",
              "      <td>0.03</td>\n",
              "      <td>0.03</td>\n",
              "      <td>0.00</td>\n",
              "    </tr>\n",
              "    <tr>\n",
              "      <th>6</th>\n",
              "      <td>7</td>\n",
              "      <td>(6.02, 6.0)</td>\n",
              "      <td>(6.0, 6.0)</td>\n",
              "      <td>(6.01, 6.0)</td>\n",
              "      <td>0.02</td>\n",
              "      <td>0.00</td>\n",
              "      <td>0.01</td>\n",
              "    </tr>\n",
              "    <tr>\n",
              "      <th>7</th>\n",
              "      <td>8</td>\n",
              "      <td>(5.98, 5.98)</td>\n",
              "      <td>(5.98, 5.97)</td>\n",
              "      <td>(6.0, 5.99)</td>\n",
              "      <td>0.00</td>\n",
              "      <td>0.01</td>\n",
              "      <td>0.01</td>\n",
              "    </tr>\n",
              "    <tr>\n",
              "      <th>8</th>\n",
              "      <td>9</td>\n",
              "      <td>(5.99, 5.98)</td>\n",
              "      <td>(5.99, 5.99)</td>\n",
              "      <td>(5.99, 5.98)</td>\n",
              "      <td>0.01</td>\n",
              "      <td>0.00</td>\n",
              "      <td>0.01</td>\n",
              "    </tr>\n",
              "    <tr>\n",
              "      <th>9</th>\n",
              "      <td>10</td>\n",
              "      <td>(6.0, 5.98)</td>\n",
              "      <td>(6.01, 5.98)</td>\n",
              "      <td>(5.98, 6.01)</td>\n",
              "      <td>0.02</td>\n",
              "      <td>0.03</td>\n",
              "      <td>0.03</td>\n",
              "    </tr>\n",
              "    <tr>\n",
              "      <th>10</th>\n",
              "      <td>11</td>\n",
              "      <td>(5.97, 5.97)</td>\n",
              "      <td>(6.0, 5.98)</td>\n",
              "      <td>(5.98, 5.99)</td>\n",
              "      <td>0.00</td>\n",
              "      <td>0.02</td>\n",
              "      <td>0.01</td>\n",
              "    </tr>\n",
              "    <tr>\n",
              "      <th>11</th>\n",
              "      <td>12</td>\n",
              "      <td>(6.02, 5.99)</td>\n",
              "      <td>(5.97, 5.99)</td>\n",
              "      <td>(5.98, 5.97)</td>\n",
              "      <td>0.03</td>\n",
              "      <td>0.02</td>\n",
              "      <td>0.01</td>\n",
              "    </tr>\n",
              "    <tr>\n",
              "      <th>12</th>\n",
              "      <td>13</td>\n",
              "      <td>(6.01, 6.0)</td>\n",
              "      <td>(6.01, 6.02)</td>\n",
              "      <td>(6.01, 6.01)</td>\n",
              "      <td>0.01</td>\n",
              "      <td>0.01</td>\n",
              "      <td>0.00</td>\n",
              "    </tr>\n",
              "    <tr>\n",
              "      <th>13</th>\n",
              "      <td>14</td>\n",
              "      <td>(5.99, 5.99)</td>\n",
              "      <td>(6.0, 5.98)</td>\n",
              "      <td>(6.0, 6.02)</td>\n",
              "      <td>0.00</td>\n",
              "      <td>0.02</td>\n",
              "      <td>0.02</td>\n",
              "    </tr>\n",
              "    <tr>\n",
              "      <th>14</th>\n",
              "      <td>15</td>\n",
              "      <td>(6.01, 5.99)</td>\n",
              "      <td>(6.0, 6.0)</td>\n",
              "      <td>(6.01, 6.0)</td>\n",
              "      <td>0.02</td>\n",
              "      <td>0.00</td>\n",
              "      <td>0.01</td>\n",
              "    </tr>\n",
              "    <tr>\n",
              "      <th>15</th>\n",
              "      <td>16</td>\n",
              "      <td>(5.99, 5.99)</td>\n",
              "      <td>(6.0, 5.99)</td>\n",
              "      <td>(5.98, 6.0)</td>\n",
              "      <td>0.00</td>\n",
              "      <td>0.01</td>\n",
              "      <td>0.02</td>\n",
              "    </tr>\n",
              "    <tr>\n",
              "      <th>16</th>\n",
              "      <td>17</td>\n",
              "      <td>(5.99, 5.98)</td>\n",
              "      <td>(5.97, 5.99)</td>\n",
              "      <td>(5.99, 5.99)</td>\n",
              "      <td>0.01</td>\n",
              "      <td>0.02</td>\n",
              "      <td>0.00</td>\n",
              "    </tr>\n",
              "    <tr>\n",
              "      <th>17</th>\n",
              "      <td>18</td>\n",
              "      <td>(5.99, 5.99)</td>\n",
              "      <td>(5.98, 6.03)</td>\n",
              "      <td>(5.99, 6.0)</td>\n",
              "      <td>0.00</td>\n",
              "      <td>0.05</td>\n",
              "      <td>0.01</td>\n",
              "    </tr>\n",
              "    <tr>\n",
              "      <th>18</th>\n",
              "      <td>19</td>\n",
              "      <td>(6.01, 6.0)</td>\n",
              "      <td>(6.02, 6.01)</td>\n",
              "      <td>(6.01, 6.02)</td>\n",
              "      <td>0.01</td>\n",
              "      <td>0.01</td>\n",
              "      <td>0.01</td>\n",
              "    </tr>\n",
              "    <tr>\n",
              "      <th>19</th>\n",
              "      <td>20</td>\n",
              "      <td>(5.98, 6.01)</td>\n",
              "      <td>(6.03, 6.0)</td>\n",
              "      <td>(5.98, 6.0)</td>\n",
              "      <td>0.03</td>\n",
              "      <td>0.03</td>\n",
              "      <td>0.02</td>\n",
              "    </tr>\n",
              "  </tbody>\n",
              "</table>\n",
              "</div>"
            ],
            "text/plain": [
              "    Amostras Medidas - OP1  ... Amplitudes - OP2 Amplitudes - OP3\n",
              "0          1  (5.99, 5.98)  ...             0.02             0.01\n",
              "1          2  (5.97, 5.99)  ...             0.00             0.00\n",
              "2          3    (6.0, 6.0)  ...             0.02             0.01\n",
              "3          4  (5.98, 5.99)  ...             0.01             0.01\n",
              "4          5  (5.99, 6.02)  ...             0.01             0.03\n",
              "5          6  (6.01, 5.98)  ...             0.03             0.00\n",
              "6          7   (6.02, 6.0)  ...             0.00             0.01\n",
              "7          8  (5.98, 5.98)  ...             0.01             0.01\n",
              "8          9  (5.99, 5.98)  ...             0.00             0.01\n",
              "9         10   (6.0, 5.98)  ...             0.03             0.03\n",
              "10        11  (5.97, 5.97)  ...             0.02             0.01\n",
              "11        12  (6.02, 5.99)  ...             0.02             0.01\n",
              "12        13   (6.01, 6.0)  ...             0.01             0.00\n",
              "13        14  (5.99, 5.99)  ...             0.02             0.02\n",
              "14        15  (6.01, 5.99)  ...             0.00             0.01\n",
              "15        16  (5.99, 5.99)  ...             0.01             0.02\n",
              "16        17  (5.99, 5.98)  ...             0.02             0.00\n",
              "17        18  (5.99, 5.99)  ...             0.05             0.01\n",
              "18        19   (6.01, 6.0)  ...             0.01             0.01\n",
              "19        20  (5.98, 6.01)  ...             0.03             0.02\n",
              "\n",
              "[20 rows x 7 columns]"
            ]
          },
          "metadata": {},
          "execution_count": 14
        }
      ]
    },
    {
      "cell_type": "code",
      "metadata": {
        "colab": {
          "base_uri": "https://localhost:8080/"
        },
        "id": "pHdAX-ZTFbse",
        "outputId": "e8a7f1e2-fd14-4085-c72d-8023f7b86a22"
      },
      "source": [
        "sigma_repe = R_barra_barra / 1.128 # d_2 para n=2 é 1.128\n",
        "\n",
        "sigma_repe"
      ],
      "execution_count": null,
      "outputs": [
        {
          "output_type": "execute_result",
          "data": {
            "text/plain": [
              "0.01196808510638283"
            ]
          },
          "metadata": {},
          "execution_count": 15
        }
      ]
    },
    {
      "cell_type": "code",
      "metadata": {
        "colab": {
          "base_uri": "https://localhost:8080/"
        },
        "id": "hwbCeSRqF1hu",
        "outputId": "60d56ee2-536f-4344-c303-bd0d2394d098"
      },
      "source": [
        "PT_repe = (6*sigma_repe) / (limitesEspecificacao[1] - limitesEspecificacao[0])\n",
        "\n",
        "print(PT_repe)\n",
        "if PT_repe < 0.10:\n",
        "  print('Instrumento de medição adequado')\n",
        "else:\n",
        "  print( 'Instrumento não adequado')"
      ],
      "execution_count": null,
      "outputs": [
        {
          "output_type": "stream",
          "name": "stdout",
          "text": [
            "0.1795212765957423\n",
            "Instrumento não adequado\n"
          ]
        }
      ]
    },
    {
      "cell_type": "markdown",
      "metadata": {
        "id": "1HrlJ_dViWzF"
      },
      "source": [
        "**REPRODUTIBILIDADE - quantificação do percentual de tolerância da reprodutibilidade ( mais de um operador )**"
      ]
    },
    {
      "cell_type": "markdown",
      "metadata": {
        "id": "9oBAx6DVigkr"
      },
      "source": [
        "A reprodutibilidade de um instrumento de medição é a variação na média das\n",
        "medidas obtidas quando diferentes operadores utilizam o instrumento de\n",
        "medição para medir repetidas vezes a característica de interesse dos mesmos\n",
        "itens.\n",
        "\n",
        "Onde, $ \\sigma_{repro} $ é a quantificação da reprodutibilidade.\n",
        "\n",
        "Para usarmos o estimador de $\\sigma_{repro}$ precisamos de $R_{\\bar{\\bar{x}}}$\n",
        "\n",
        "Onde, $ R_{\\bar{\\bar{x}}} = MAX({\\bar{\\bar{x}}}) - MIN({\\bar{\\bar{x}}}) $\n",
        "\n",
        "Ou seja, é a amplitude entre as médias das médias das medições de cada operador.\n",
        "\n",
        "Com isto, podemos definir:      \n",
        "\n",
        "$\\hat\\sigma_{repro} = \\sqrt{(\\frac{R_{\\bar{\\bar{x}}}}{d_2})^{2} - \\frac{\\hat\\sigma_{repe}^2}{n \\cdot k}}$\n",
        "\n",
        "Nesta fórmula, $n$ é relativo ao número de vezes que um item é medido.\n",
        "\n",
        "Porém, para $d_2$, que será referente a repro, teremos $n$ como sendo o número de operadores.\n",
        "\n",
        "Sendo assim, \n",
        "\n",
        "$PT_{repro} = \\frac{6\\hat\\sigma_{repro}}{LSE - LIE} * 100$"
      ]
    },
    {
      "cell_type": "code",
      "metadata": {
        "colab": {
          "base_uri": "https://localhost:8080/",
          "height": 669
        },
        "id": "wa46dAMtigFO",
        "outputId": "e95b8fae-5008-4805-a4df-93d66b5dffeb"
      },
      "source": [
        "#EXEMPLO\n",
        "\n",
        "limitesEspecificacao = [5.80,6.20]\n",
        "\n",
        "medidas1 = [5.99,5.97,6.00,5.98,5.99,6.01,6.02,5.98,5.99,6.00,5.97,6.02,6.01,5.99,6.01,5.99,5.99,5.99,6.01,5.98]\n",
        "medidas2 = [5.98,5.99,6.00,5.99,6.02,5.98,6.00,5.98,5.98,5.98,5.97,5.99,6.00,5.99,5.99,5.99,5.98,5.99,6.00,6.01]\n",
        "\n",
        "medidasOP1 = []\n",
        "\n",
        "for i in range(len(medidas1)):\n",
        "  medidasOP1.append((medidas1[i],medidas2[i]))\n",
        "\n",
        "\n",
        "medidasOP2 = [(5.97,5.99),(6.00,6.00),(6.02,6.00),(5.99,5.98),(6.01,6.02),\n",
        "              (5.98,6.01),(6.00,6.00),(5.98,5.97),(5.99,5.99),(6.01,5.98),\n",
        "              (6.00,5.98),(5.97,5.99),(6.01,6.02),(6.00,5.98),(6.00,6.00),\n",
        "              (6.00,5.99),(5.97,5.99),(5.98,6.03),(6.02,6.01),(6.03,6.00)]\n",
        "\n",
        "medidasOP3 = [(6.00,5.99),(6.00,6.00),(6.01,6.00),(5.99,5.98),(6.01,5.98),\n",
        "              (5.99,5.99),(6.01,6.00),(6.00,5.99),(5.99,5.98),(5.98,6.01),\n",
        "              (5.98,5.99),(5.98,5.97),(6.01,6.01),(6.00,6.02),(6.01,6.00),\n",
        "              (5.98,6.00),(5.99,5.99),(5.99,6.00),(6.01,6.02),(5.98,6.00)]\n",
        "\n",
        "df = pd.DataFrame({'Amostras': np.arange(1,21),'Medidas - OP1':medidasOP1,'Medidas - OP2':medidasOP2,'Medidas - OP3':medidasOP3})\n",
        "\n",
        "df"
      ],
      "execution_count": null,
      "outputs": [
        {
          "output_type": "execute_result",
          "data": {
            "text/html": [
              "<div>\n",
              "<style scoped>\n",
              "    .dataframe tbody tr th:only-of-type {\n",
              "        vertical-align: middle;\n",
              "    }\n",
              "\n",
              "    .dataframe tbody tr th {\n",
              "        vertical-align: top;\n",
              "    }\n",
              "\n",
              "    .dataframe thead th {\n",
              "        text-align: right;\n",
              "    }\n",
              "</style>\n",
              "<table border=\"1\" class=\"dataframe\">\n",
              "  <thead>\n",
              "    <tr style=\"text-align: right;\">\n",
              "      <th></th>\n",
              "      <th>Amostras</th>\n",
              "      <th>Medidas - OP1</th>\n",
              "      <th>Medidas - OP2</th>\n",
              "      <th>Medidas - OP3</th>\n",
              "    </tr>\n",
              "  </thead>\n",
              "  <tbody>\n",
              "    <tr>\n",
              "      <th>0</th>\n",
              "      <td>1</td>\n",
              "      <td>(5.99, 5.98)</td>\n",
              "      <td>(5.97, 5.99)</td>\n",
              "      <td>(6.0, 5.99)</td>\n",
              "    </tr>\n",
              "    <tr>\n",
              "      <th>1</th>\n",
              "      <td>2</td>\n",
              "      <td>(5.97, 5.99)</td>\n",
              "      <td>(6.0, 6.0)</td>\n",
              "      <td>(6.0, 6.0)</td>\n",
              "    </tr>\n",
              "    <tr>\n",
              "      <th>2</th>\n",
              "      <td>3</td>\n",
              "      <td>(6.0, 6.0)</td>\n",
              "      <td>(6.02, 6.0)</td>\n",
              "      <td>(6.01, 6.0)</td>\n",
              "    </tr>\n",
              "    <tr>\n",
              "      <th>3</th>\n",
              "      <td>4</td>\n",
              "      <td>(5.98, 5.99)</td>\n",
              "      <td>(5.99, 5.98)</td>\n",
              "      <td>(5.99, 5.98)</td>\n",
              "    </tr>\n",
              "    <tr>\n",
              "      <th>4</th>\n",
              "      <td>5</td>\n",
              "      <td>(5.99, 6.02)</td>\n",
              "      <td>(6.01, 6.02)</td>\n",
              "      <td>(6.01, 5.98)</td>\n",
              "    </tr>\n",
              "    <tr>\n",
              "      <th>5</th>\n",
              "      <td>6</td>\n",
              "      <td>(6.01, 5.98)</td>\n",
              "      <td>(5.98, 6.01)</td>\n",
              "      <td>(5.99, 5.99)</td>\n",
              "    </tr>\n",
              "    <tr>\n",
              "      <th>6</th>\n",
              "      <td>7</td>\n",
              "      <td>(6.02, 6.0)</td>\n",
              "      <td>(6.0, 6.0)</td>\n",
              "      <td>(6.01, 6.0)</td>\n",
              "    </tr>\n",
              "    <tr>\n",
              "      <th>7</th>\n",
              "      <td>8</td>\n",
              "      <td>(5.98, 5.98)</td>\n",
              "      <td>(5.98, 5.97)</td>\n",
              "      <td>(6.0, 5.99)</td>\n",
              "    </tr>\n",
              "    <tr>\n",
              "      <th>8</th>\n",
              "      <td>9</td>\n",
              "      <td>(5.99, 5.98)</td>\n",
              "      <td>(5.99, 5.99)</td>\n",
              "      <td>(5.99, 5.98)</td>\n",
              "    </tr>\n",
              "    <tr>\n",
              "      <th>9</th>\n",
              "      <td>10</td>\n",
              "      <td>(6.0, 5.98)</td>\n",
              "      <td>(6.01, 5.98)</td>\n",
              "      <td>(5.98, 6.01)</td>\n",
              "    </tr>\n",
              "    <tr>\n",
              "      <th>10</th>\n",
              "      <td>11</td>\n",
              "      <td>(5.97, 5.97)</td>\n",
              "      <td>(6.0, 5.98)</td>\n",
              "      <td>(5.98, 5.99)</td>\n",
              "    </tr>\n",
              "    <tr>\n",
              "      <th>11</th>\n",
              "      <td>12</td>\n",
              "      <td>(6.02, 5.99)</td>\n",
              "      <td>(5.97, 5.99)</td>\n",
              "      <td>(5.98, 5.97)</td>\n",
              "    </tr>\n",
              "    <tr>\n",
              "      <th>12</th>\n",
              "      <td>13</td>\n",
              "      <td>(6.01, 6.0)</td>\n",
              "      <td>(6.01, 6.02)</td>\n",
              "      <td>(6.01, 6.01)</td>\n",
              "    </tr>\n",
              "    <tr>\n",
              "      <th>13</th>\n",
              "      <td>14</td>\n",
              "      <td>(5.99, 5.99)</td>\n",
              "      <td>(6.0, 5.98)</td>\n",
              "      <td>(6.0, 6.02)</td>\n",
              "    </tr>\n",
              "    <tr>\n",
              "      <th>14</th>\n",
              "      <td>15</td>\n",
              "      <td>(6.01, 5.99)</td>\n",
              "      <td>(6.0, 6.0)</td>\n",
              "      <td>(6.01, 6.0)</td>\n",
              "    </tr>\n",
              "    <tr>\n",
              "      <th>15</th>\n",
              "      <td>16</td>\n",
              "      <td>(5.99, 5.99)</td>\n",
              "      <td>(6.0, 5.99)</td>\n",
              "      <td>(5.98, 6.0)</td>\n",
              "    </tr>\n",
              "    <tr>\n",
              "      <th>16</th>\n",
              "      <td>17</td>\n",
              "      <td>(5.99, 5.98)</td>\n",
              "      <td>(5.97, 5.99)</td>\n",
              "      <td>(5.99, 5.99)</td>\n",
              "    </tr>\n",
              "    <tr>\n",
              "      <th>17</th>\n",
              "      <td>18</td>\n",
              "      <td>(5.99, 5.99)</td>\n",
              "      <td>(5.98, 6.03)</td>\n",
              "      <td>(5.99, 6.0)</td>\n",
              "    </tr>\n",
              "    <tr>\n",
              "      <th>18</th>\n",
              "      <td>19</td>\n",
              "      <td>(6.01, 6.0)</td>\n",
              "      <td>(6.02, 6.01)</td>\n",
              "      <td>(6.01, 6.02)</td>\n",
              "    </tr>\n",
              "    <tr>\n",
              "      <th>19</th>\n",
              "      <td>20</td>\n",
              "      <td>(5.98, 6.01)</td>\n",
              "      <td>(6.03, 6.0)</td>\n",
              "      <td>(5.98, 6.0)</td>\n",
              "    </tr>\n",
              "  </tbody>\n",
              "</table>\n",
              "</div>"
            ],
            "text/plain": [
              "    Amostras Medidas - OP1 Medidas - OP2 Medidas - OP3\n",
              "0          1  (5.99, 5.98)  (5.97, 5.99)   (6.0, 5.99)\n",
              "1          2  (5.97, 5.99)    (6.0, 6.0)    (6.0, 6.0)\n",
              "2          3    (6.0, 6.0)   (6.02, 6.0)   (6.01, 6.0)\n",
              "3          4  (5.98, 5.99)  (5.99, 5.98)  (5.99, 5.98)\n",
              "4          5  (5.99, 6.02)  (6.01, 6.02)  (6.01, 5.98)\n",
              "5          6  (6.01, 5.98)  (5.98, 6.01)  (5.99, 5.99)\n",
              "6          7   (6.02, 6.0)    (6.0, 6.0)   (6.01, 6.0)\n",
              "7          8  (5.98, 5.98)  (5.98, 5.97)   (6.0, 5.99)\n",
              "8          9  (5.99, 5.98)  (5.99, 5.99)  (5.99, 5.98)\n",
              "9         10   (6.0, 5.98)  (6.01, 5.98)  (5.98, 6.01)\n",
              "10        11  (5.97, 5.97)   (6.0, 5.98)  (5.98, 5.99)\n",
              "11        12  (6.02, 5.99)  (5.97, 5.99)  (5.98, 5.97)\n",
              "12        13   (6.01, 6.0)  (6.01, 6.02)  (6.01, 6.01)\n",
              "13        14  (5.99, 5.99)   (6.0, 5.98)   (6.0, 6.02)\n",
              "14        15  (6.01, 5.99)    (6.0, 6.0)   (6.01, 6.0)\n",
              "15        16  (5.99, 5.99)   (6.0, 5.99)   (5.98, 6.0)\n",
              "16        17  (5.99, 5.98)  (5.97, 5.99)  (5.99, 5.99)\n",
              "17        18  (5.99, 5.99)  (5.98, 6.03)   (5.99, 6.0)\n",
              "18        19   (6.01, 6.0)  (6.02, 6.01)  (6.01, 6.02)\n",
              "19        20  (5.98, 6.01)   (6.03, 6.0)   (5.98, 6.0)"
            ]
          },
          "metadata": {},
          "execution_count": 18
        }
      ]
    },
    {
      "cell_type": "code",
      "metadata": {
        "colab": {
          "base_uri": "https://localhost:8080/",
          "height": 669
        },
        "id": "Z9TSkFU8mCx3",
        "outputId": "e38ffab3-781d-45f3-aad5-fb6e395546ea"
      },
      "source": [
        "# R_xbarrrabarra\n",
        "\n",
        "df['Médias - OP1'] = df.apply(lambda f: sts.mean(f['Medidas - OP1']),axis=1)\n",
        "df['Médias - OP2'] = df.apply(lambda f: sts.mean(f['Medidas - OP2']),axis=1)\n",
        "df['Médias - OP3'] = df.apply(lambda f: sts.mean(f['Medidas - OP3']),axis=1)\n",
        "\n",
        "df"
      ],
      "execution_count": null,
      "outputs": [
        {
          "output_type": "execute_result",
          "data": {
            "text/html": [
              "<div>\n",
              "<style scoped>\n",
              "    .dataframe tbody tr th:only-of-type {\n",
              "        vertical-align: middle;\n",
              "    }\n",
              "\n",
              "    .dataframe tbody tr th {\n",
              "        vertical-align: top;\n",
              "    }\n",
              "\n",
              "    .dataframe thead th {\n",
              "        text-align: right;\n",
              "    }\n",
              "</style>\n",
              "<table border=\"1\" class=\"dataframe\">\n",
              "  <thead>\n",
              "    <tr style=\"text-align: right;\">\n",
              "      <th></th>\n",
              "      <th>Amostras</th>\n",
              "      <th>Medidas - OP1</th>\n",
              "      <th>Medidas - OP2</th>\n",
              "      <th>Medidas - OP3</th>\n",
              "      <th>Médias - OP1</th>\n",
              "      <th>Médias - OP2</th>\n",
              "      <th>Médias - OP3</th>\n",
              "    </tr>\n",
              "  </thead>\n",
              "  <tbody>\n",
              "    <tr>\n",
              "      <th>0</th>\n",
              "      <td>1</td>\n",
              "      <td>(5.99, 5.98)</td>\n",
              "      <td>(5.97, 5.99)</td>\n",
              "      <td>(6.0, 5.99)</td>\n",
              "      <td>5.985</td>\n",
              "      <td>5.980</td>\n",
              "      <td>5.995</td>\n",
              "    </tr>\n",
              "    <tr>\n",
              "      <th>1</th>\n",
              "      <td>2</td>\n",
              "      <td>(5.97, 5.99)</td>\n",
              "      <td>(6.0, 6.0)</td>\n",
              "      <td>(6.0, 6.0)</td>\n",
              "      <td>5.980</td>\n",
              "      <td>6.000</td>\n",
              "      <td>6.000</td>\n",
              "    </tr>\n",
              "    <tr>\n",
              "      <th>2</th>\n",
              "      <td>3</td>\n",
              "      <td>(6.0, 6.0)</td>\n",
              "      <td>(6.02, 6.0)</td>\n",
              "      <td>(6.01, 6.0)</td>\n",
              "      <td>6.000</td>\n",
              "      <td>6.010</td>\n",
              "      <td>6.005</td>\n",
              "    </tr>\n",
              "    <tr>\n",
              "      <th>3</th>\n",
              "      <td>4</td>\n",
              "      <td>(5.98, 5.99)</td>\n",
              "      <td>(5.99, 5.98)</td>\n",
              "      <td>(5.99, 5.98)</td>\n",
              "      <td>5.985</td>\n",
              "      <td>5.985</td>\n",
              "      <td>5.985</td>\n",
              "    </tr>\n",
              "    <tr>\n",
              "      <th>4</th>\n",
              "      <td>5</td>\n",
              "      <td>(5.99, 6.02)</td>\n",
              "      <td>(6.01, 6.02)</td>\n",
              "      <td>(6.01, 5.98)</td>\n",
              "      <td>6.005</td>\n",
              "      <td>6.015</td>\n",
              "      <td>5.995</td>\n",
              "    </tr>\n",
              "    <tr>\n",
              "      <th>5</th>\n",
              "      <td>6</td>\n",
              "      <td>(6.01, 5.98)</td>\n",
              "      <td>(5.98, 6.01)</td>\n",
              "      <td>(5.99, 5.99)</td>\n",
              "      <td>5.995</td>\n",
              "      <td>5.995</td>\n",
              "      <td>5.990</td>\n",
              "    </tr>\n",
              "    <tr>\n",
              "      <th>6</th>\n",
              "      <td>7</td>\n",
              "      <td>(6.02, 6.0)</td>\n",
              "      <td>(6.0, 6.0)</td>\n",
              "      <td>(6.01, 6.0)</td>\n",
              "      <td>6.010</td>\n",
              "      <td>6.000</td>\n",
              "      <td>6.005</td>\n",
              "    </tr>\n",
              "    <tr>\n",
              "      <th>7</th>\n",
              "      <td>8</td>\n",
              "      <td>(5.98, 5.98)</td>\n",
              "      <td>(5.98, 5.97)</td>\n",
              "      <td>(6.0, 5.99)</td>\n",
              "      <td>5.980</td>\n",
              "      <td>5.975</td>\n",
              "      <td>5.995</td>\n",
              "    </tr>\n",
              "    <tr>\n",
              "      <th>8</th>\n",
              "      <td>9</td>\n",
              "      <td>(5.99, 5.98)</td>\n",
              "      <td>(5.99, 5.99)</td>\n",
              "      <td>(5.99, 5.98)</td>\n",
              "      <td>5.985</td>\n",
              "      <td>5.990</td>\n",
              "      <td>5.985</td>\n",
              "    </tr>\n",
              "    <tr>\n",
              "      <th>9</th>\n",
              "      <td>10</td>\n",
              "      <td>(6.0, 5.98)</td>\n",
              "      <td>(6.01, 5.98)</td>\n",
              "      <td>(5.98, 6.01)</td>\n",
              "      <td>5.990</td>\n",
              "      <td>5.995</td>\n",
              "      <td>5.995</td>\n",
              "    </tr>\n",
              "    <tr>\n",
              "      <th>10</th>\n",
              "      <td>11</td>\n",
              "      <td>(5.97, 5.97)</td>\n",
              "      <td>(6.0, 5.98)</td>\n",
              "      <td>(5.98, 5.99)</td>\n",
              "      <td>5.970</td>\n",
              "      <td>5.990</td>\n",
              "      <td>5.985</td>\n",
              "    </tr>\n",
              "    <tr>\n",
              "      <th>11</th>\n",
              "      <td>12</td>\n",
              "      <td>(6.02, 5.99)</td>\n",
              "      <td>(5.97, 5.99)</td>\n",
              "      <td>(5.98, 5.97)</td>\n",
              "      <td>6.005</td>\n",
              "      <td>5.980</td>\n",
              "      <td>5.975</td>\n",
              "    </tr>\n",
              "    <tr>\n",
              "      <th>12</th>\n",
              "      <td>13</td>\n",
              "      <td>(6.01, 6.0)</td>\n",
              "      <td>(6.01, 6.02)</td>\n",
              "      <td>(6.01, 6.01)</td>\n",
              "      <td>6.005</td>\n",
              "      <td>6.015</td>\n",
              "      <td>6.010</td>\n",
              "    </tr>\n",
              "    <tr>\n",
              "      <th>13</th>\n",
              "      <td>14</td>\n",
              "      <td>(5.99, 5.99)</td>\n",
              "      <td>(6.0, 5.98)</td>\n",
              "      <td>(6.0, 6.02)</td>\n",
              "      <td>5.990</td>\n",
              "      <td>5.990</td>\n",
              "      <td>6.010</td>\n",
              "    </tr>\n",
              "    <tr>\n",
              "      <th>14</th>\n",
              "      <td>15</td>\n",
              "      <td>(6.01, 5.99)</td>\n",
              "      <td>(6.0, 6.0)</td>\n",
              "      <td>(6.01, 6.0)</td>\n",
              "      <td>6.000</td>\n",
              "      <td>6.000</td>\n",
              "      <td>6.005</td>\n",
              "    </tr>\n",
              "    <tr>\n",
              "      <th>15</th>\n",
              "      <td>16</td>\n",
              "      <td>(5.99, 5.99)</td>\n",
              "      <td>(6.0, 5.99)</td>\n",
              "      <td>(5.98, 6.0)</td>\n",
              "      <td>5.990</td>\n",
              "      <td>5.995</td>\n",
              "      <td>5.990</td>\n",
              "    </tr>\n",
              "    <tr>\n",
              "      <th>16</th>\n",
              "      <td>17</td>\n",
              "      <td>(5.99, 5.98)</td>\n",
              "      <td>(5.97, 5.99)</td>\n",
              "      <td>(5.99, 5.99)</td>\n",
              "      <td>5.985</td>\n",
              "      <td>5.980</td>\n",
              "      <td>5.990</td>\n",
              "    </tr>\n",
              "    <tr>\n",
              "      <th>17</th>\n",
              "      <td>18</td>\n",
              "      <td>(5.99, 5.99)</td>\n",
              "      <td>(5.98, 6.03)</td>\n",
              "      <td>(5.99, 6.0)</td>\n",
              "      <td>5.990</td>\n",
              "      <td>6.005</td>\n",
              "      <td>5.995</td>\n",
              "    </tr>\n",
              "    <tr>\n",
              "      <th>18</th>\n",
              "      <td>19</td>\n",
              "      <td>(6.01, 6.0)</td>\n",
              "      <td>(6.02, 6.01)</td>\n",
              "      <td>(6.01, 6.02)</td>\n",
              "      <td>6.005</td>\n",
              "      <td>6.015</td>\n",
              "      <td>6.015</td>\n",
              "    </tr>\n",
              "    <tr>\n",
              "      <th>19</th>\n",
              "      <td>20</td>\n",
              "      <td>(5.98, 6.01)</td>\n",
              "      <td>(6.03, 6.0)</td>\n",
              "      <td>(5.98, 6.0)</td>\n",
              "      <td>5.995</td>\n",
              "      <td>6.015</td>\n",
              "      <td>5.990</td>\n",
              "    </tr>\n",
              "  </tbody>\n",
              "</table>\n",
              "</div>"
            ],
            "text/plain": [
              "    Amostras Medidas - OP1  ... Médias - OP2 Médias - OP3\n",
              "0          1  (5.99, 5.98)  ...        5.980        5.995\n",
              "1          2  (5.97, 5.99)  ...        6.000        6.000\n",
              "2          3    (6.0, 6.0)  ...        6.010        6.005\n",
              "3          4  (5.98, 5.99)  ...        5.985        5.985\n",
              "4          5  (5.99, 6.02)  ...        6.015        5.995\n",
              "5          6  (6.01, 5.98)  ...        5.995        5.990\n",
              "6          7   (6.02, 6.0)  ...        6.000        6.005\n",
              "7          8  (5.98, 5.98)  ...        5.975        5.995\n",
              "8          9  (5.99, 5.98)  ...        5.990        5.985\n",
              "9         10   (6.0, 5.98)  ...        5.995        5.995\n",
              "10        11  (5.97, 5.97)  ...        5.990        5.985\n",
              "11        12  (6.02, 5.99)  ...        5.980        5.975\n",
              "12        13   (6.01, 6.0)  ...        6.015        6.010\n",
              "13        14  (5.99, 5.99)  ...        5.990        6.010\n",
              "14        15  (6.01, 5.99)  ...        6.000        6.005\n",
              "15        16  (5.99, 5.99)  ...        5.995        5.990\n",
              "16        17  (5.99, 5.98)  ...        5.980        5.990\n",
              "17        18  (5.99, 5.99)  ...        6.005        5.995\n",
              "18        19   (6.01, 6.0)  ...        6.015        6.015\n",
              "19        20  (5.98, 6.01)  ...        6.015        5.990\n",
              "\n",
              "[20 rows x 7 columns]"
            ]
          },
          "metadata": {},
          "execution_count": 19
        }
      ]
    },
    {
      "cell_type": "code",
      "metadata": {
        "colab": {
          "base_uri": "https://localhost:8080/"
        },
        "id": "Qc1dS2Fdm6qh",
        "outputId": "e2f9ac07-93ed-42b1-c62d-5e2ce9d6486a"
      },
      "source": [
        "x_barra_barra = [sts.mean(df['Médias - OP1']),sts.mean(df['Médias - OP2']),sts.mean(df['Médias - OP3'])]\n",
        "\n",
        "x_barra_barra"
      ],
      "execution_count": null,
      "outputs": [
        {
          "output_type": "execute_result",
          "data": {
            "text/plain": [
              "[5.9925, 5.9965, 5.99575]"
            ]
          },
          "metadata": {},
          "execution_count": 21
        }
      ]
    },
    {
      "cell_type": "code",
      "metadata": {
        "colab": {
          "base_uri": "https://localhost:8080/"
        },
        "id": "xFveDlZMnUS2",
        "outputId": "7610e5c3-dd06-424e-ab57-3b127a180eeb"
      },
      "source": [
        "R_xbarrabarra = max(x_barra_barra) - min(x_barra_barra)\n",
        "\n",
        "R_xbarrabarra"
      ],
      "execution_count": null,
      "outputs": [
        {
          "output_type": "execute_result",
          "data": {
            "text/plain": [
              "0.004000000000000448"
            ]
          },
          "metadata": {},
          "execution_count": 24
        }
      ]
    },
    {
      "cell_type": "code",
      "metadata": {
        "colab": {
          "base_uri": "https://localhost:8080/"
        },
        "id": "NeGc5buDnco-",
        "outputId": "e98072eb-725e-4981-c212-9e523e4db73e"
      },
      "source": [
        "d_2 = 1.693 # n = 3 operadores\n",
        "n = 2 # número de medições de cada item por cada operador\n",
        "k = df.shape[0]\n",
        "\n",
        "sigma_repro = math.sqrt(((R_xbarrabarra/d_2)**2) - ((sigma_repe**2)/(n*k)))\n",
        "\n",
        "print(sigma_repro)"
      ],
      "execution_count": null,
      "outputs": [
        {
          "output_type": "stream",
          "name": "stdout",
          "text": [
            "0.0014146844651081421\n"
          ]
        }
      ]
    },
    {
      "cell_type": "code",
      "metadata": {
        "colab": {
          "base_uri": "https://localhost:8080/"
        },
        "id": "2eSPYD0hqvkE",
        "outputId": "92e03663-87c8-4af1-8398-a808f2abb5d0"
      },
      "source": [
        "PT_repro = (6*sigma_repro)/(limitesEspecificacao[1] - limitesEspecificacao[0])\n",
        "print(PT_repro)"
      ],
      "execution_count": null,
      "outputs": [
        {
          "output_type": "stream",
          "name": "stdout",
          "text": [
            "0.02122026697662211\n"
          ]
        }
      ]
    },
    {
      "cell_type": "markdown",
      "metadata": {
        "id": "Io-F7Q34tTJu"
      },
      "source": [
        "Por fim, para estimação da capacidade do sistema de medição,\n",
        "\n",
        "$\\hat\\sigma_{medicao}^2 = \\hat\\sigma_{repe}^2 + \\hat\\sigma_{repro}^2 $\n",
        "\n",
        "Isto é, a variabilidade do sistema de medição é a soma da variabilidade devido\n",
        "à repetitividade com a variabilidade devido à reprodutibilidade.\n",
        "\n",
        "E assim, o Percentual de tolerância da medição é\n",
        "\n",
        "$ PT_{medicao} = \\frac{6\\hat\\sigma_{medicao}}{LSE-LIE} * 100$"
      ]
    },
    {
      "cell_type": "code",
      "metadata": {
        "colab": {
          "base_uri": "https://localhost:8080/"
        },
        "id": "F0eTPEjktvCf",
        "outputId": "be67688c-0e4c-49ea-ed93-4ac29bdb0fcd"
      },
      "source": [
        "#sigma_medicao\n",
        "\n",
        "sigma_medicao = math.sqrt(sigma_repe**2 + sigma_repro**2)\n",
        "\n",
        "print(sigma_medicao)"
      ],
      "execution_count": null,
      "outputs": [
        {
          "output_type": "stream",
          "name": "stdout",
          "text": [
            "0.012051406276839264\n"
          ]
        }
      ]
    },
    {
      "cell_type": "code",
      "metadata": {
        "colab": {
          "base_uri": "https://localhost:8080/"
        },
        "id": "INyqnoCLubI6",
        "outputId": "61ff71ab-902f-46b2-adc1-0f693d915388"
      },
      "source": [
        "PT_medicao = (6*sigma_medicao)/(limitesEspecificacao[1] - limitesEspecificacao[0]) * 100\n",
        "PT_medicao"
      ],
      "execution_count": null,
      "outputs": [
        {
          "output_type": "execute_result",
          "data": {
            "text/plain": [
              "18.07710941525888"
            ]
          },
          "metadata": {},
          "execution_count": 37
        }
      ]
    },
    {
      "cell_type": "code",
      "metadata": {
        "id": "B3yN6mA958gg"
      },
      "source": [
        "#\n",
        "#\n",
        "\n",
        "import numpy as np\n",
        "import statistics as sts\n",
        "from math import fabs"
      ],
      "execution_count": null,
      "outputs": []
    },
    {
      "cell_type": "code",
      "metadata": {
        "id": "FqsXSrt459Hn"
      },
      "source": [
        "table = np.array([[413, 419, 411, 421],[395, 413, 413, 417],[425, 407, 423, 417],[403, 399, 401, 397],\n",
        "        [419, 409, 429, 409],[407, 407, 407, 409],[397, 401, 407, 393],[405, 417, 407, 407],\n",
        "        [411, 415, 409, 405],[409, 413, 405, 409],[407, 403, 409, 405],[407, 411, 415, 415],\n",
        "        [403, 409, 407, 411],[409, 405, 393, 397],[419, 415, 401, 395],[407, 399, 413, 403],\n",
        "        [409, 407, 410, 411],[427, 417, 409, 407],[411, 415, 419, 425],[405, 417, 409, 419],\n",
        "        [397, 407, 417, 405],[413, 413, 405, 395],[409, 405, 409, 413],[403, 399, 399, 405],\n",
        "        [395, 389, 401, 393]])"
      ],
      "execution_count": null,
      "outputs": []
    },
    {
      "cell_type": "code",
      "metadata": {
        "colab": {
          "base_uri": "https://localhost:8080/"
        },
        "id": "2jhAKk4b6Mtz",
        "outputId": "0d15650a-bb30-4d24-d886-e67310e4db30"
      },
      "source": [
        "#estimador para a média do processo: X_barra_barra\n",
        "#estimador para desvio-padrão do processo: Rbarra/d2\n",
        "\n",
        "R_barra = 0\n",
        "media = 0\n",
        "\n",
        "for i in table:\n",
        "  media+=i.mean()\n",
        "  R_barra += fabs(max(i) - min(i))\n",
        "\n",
        "media = media/table.shape[0]\n",
        "R_barra = R_barra/table.shape[0]\n",
        "\n",
        "sigma_x = round(R_barra / 2.059,4)\n",
        "\n",
        "print('Mi: ',media,' | sigmaX: ',sigma_x)"
      ],
      "execution_count": null,
      "outputs": [
        {
          "output_type": "stream",
          "name": "stdout",
          "text": [
            "Mi:  408.27  | sigmaX:  6.1\n"
          ]
        }
      ]
    },
    {
      "cell_type": "code",
      "metadata": {
        "colab": {
          "base_uri": "https://localhost:8080/"
        },
        "id": "kzUwlPCg_Ald",
        "outputId": "b39bbcdd-ec59-4ffa-83da-1976ad3d37b8"
      },
      "source": [
        "#Logo, para a distribuição da média:\n",
        "\n",
        "sigma_xbarra_barra = sigma_x / 2\n",
        "\n",
        "print(sigma_xbarra_barra)"
      ],
      "execution_count": null,
      "outputs": [
        {
          "output_type": "stream",
          "name": "stdout",
          "text": [
            "3.05\n"
          ]
        }
      ]
    },
    {
      "cell_type": "code",
      "metadata": {
        "colab": {
          "base_uri": "https://localhost:8080/"
        },
        "id": "lJv1Ie7s_efC",
        "outputId": "7813b390-7e04-4a99-d3dd-905694646a38"
      },
      "source": [
        "LIC = media - (3*sigma_xbarra_barra)\n",
        "LSC = media + (3*sigma_xbarra_barra)\n",
        "\n",
        "print('LIC: ',LIC,' | LSC: ',LSC)"
      ],
      "execution_count": null,
      "outputs": [
        {
          "output_type": "stream",
          "name": "stdout",
          "text": [
            "LIC:  399.12  | LSC:  417.41999999999996\n"
          ]
        }
      ]
    }
  ]
}